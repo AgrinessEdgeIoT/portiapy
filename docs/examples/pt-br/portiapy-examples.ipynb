{
 "cells": [
  {
   "cell_type": "markdown",
   "metadata": {
    "pycharm": {}
   },
   "source": [
    "# PortiaPy\n",
    "\n",
    "Um pacote para trabalhar com a API Portia da Agriness Edge. Possui ferramentas para trabalhar com os dois principais grupos de _endpoints_ que a API oferece:\n",
    "\n",
    "### Estruturas do Pipeline\n",
    "- Fases (Phases);\n",
    "- Axiomas (Axioms);\n",
    "- Especificações (Specifications);\n",
    "\n",
    "### Consultas\n",
    "- Descrição (Describe);\n",
    "- Perfil (Profile);\n",
    "- Seleção (Select);\n",
    "- Sumário (Summary);"
   ]
  },
  {
   "cell_type": "code",
   "execution_count": 1,
   "metadata": {
    "pycharm": {}
   },
   "outputs": [
    {
     "name": "stdout",
     "output_type": "stream",
     "text": [
      "portiapy - an Agriness Edge project\n"
     ]
    }
   ],
   "source": [
    "import portiapy\n",
    "import json\n",
    "\n",
    "portiapy.about()"
   ]
  },
  {
   "cell_type": "markdown",
   "metadata": {
    "pycharm": {}
   },
   "source": [
    "# Trabalhando com o PortiaPy"
   ]
  },
  {
   "cell_type": "markdown",
   "metadata": {
    "pycharm": {}
   },
   "source": [
    "## 1. PortiaApi\n",
    "Classe para interação com a API, necessita de uma série de configurações para seu funcionamento passadas no construtor da classe:"
   ]
  },
  {
   "cell_type": "code",
   "execution_count": 2,
   "metadata": {
    "pycharm": {}
   },
   "outputs": [
    {
     "data": {
      "text/plain": [
       "{'baseurl': 'http://localhost',\n",
       " 'authorization': '<your API key>',\n",
       " 'debug': False}"
      ]
     },
     "execution_count": 2,
     "metadata": {},
     "output_type": "execute_result"
    }
   ],
   "source": [
    "# Exemplo\n",
    "portiapy.portiaConfigExample"
   ]
  },
  {
   "cell_type": "markdown",
   "metadata": {
    "pycharm": {}
   },
   "source": [
    "#### Instanciando um objeto do tipo PortiaApi"
   ]
  },
  {
   "cell_type": "code",
   "execution_count": 3,
   "metadata": {
    "pycharm": {}
   },
   "outputs": [],
   "source": [
    "from portiapy.portia import PortiaApi\n",
    "\n",
    "portiaApi = PortiaApi({\n",
    "    'baseurl': '',\n",
    "    'authorization': '',\n",
    "    'debug': False,\n",
    "    'Accept': 'text/csv'\n",
    "})"
   ]
  },
  {
   "cell_type": "markdown",
   "metadata": {
    "pycharm": {}
   },
   "source": [
    "## 2. EdgePipeline\n",
    "Classe para interação com as estruturas de pipeline oferecidas pela API:"
   ]
  },
  {
   "cell_type": "code",
   "execution_count": 4,
   "metadata": {
    "pycharm": {}
   },
   "outputs": [],
   "source": [
    "pipeline = portiaApi.pipeline()"
   ]
  },
  {
   "cell_type": "markdown",
   "metadata": {
    "pycharm": {}
   },
   "source": [
    "### 2.1. EdgePipelinePhase\n",
    "* Classe para criação, leitura e atualização de **fases** pertencentes ao pipeline;\n",
    "* As **fases** são responsáveis pelo tratamento das séries temporais, modificando-as de acordo com suas próprias definições;\n",
    "* Atualmente há apenas **fases** do tipo consulta (_query_). Estas realizam modificações diretamente na consulta realizada ao banco e não na série temporal retornada;"
   ]
  },
  {
   "cell_type": "code",
   "execution_count": 5,
   "metadata": {
    "pycharm": {}
   },
   "outputs": [],
   "source": [
    "phase = pipeline.phase()"
   ]
  },
  {
   "cell_type": "code",
   "execution_count": 6,
   "metadata": {
    "pycharm": {}
   },
   "outputs": [
    {
     "name": "stdout",
     "output_type": "stream",
     "text": [
      "[\n",
      "   {\n",
      "      \"name\": \"time_query\",\n",
      "      \"type\": \"query\",\n",
      "      \"created_at\": \"2019-05-08 15:52:41\",\n",
      "      \"updated_at\": \"2019-05-08 15:52:41\",\n",
      "      \"params\": [\n",
      "         {\n",
      "            \"label\": \"from\",\n",
      "            \"target\": \"time\",\n",
      "            \"operator\": \">=\"\n",
      "         },\n",
      "         {\n",
      "            \"label\": \"to\",\n",
      "            \"target\": \"time\",\n",
      "            \"operator\": \"<=\"\n",
      "         }\n",
      "      ]\n",
      "   },\n",
      "   {\n",
      "      \"name\": \"default_query\",\n",
      "      \"type\": \"query\",\n",
      "      \"created_at\": \"2019-05-08 15:52:41\",\n",
      "      \"updated_at\": \"2019-05-08 15:52:41\",\n",
      "      \"params\": [\n",
      "         {\n",
      "            \"label\": \"lower_bound\",\n",
      "            \"target\": \"value\",\n",
      "            \"operator\": \">=\"\n",
      "         },\n",
      "         {\n",
      "            \"label\": \"upper_bound\",\n",
      "            \"target\": \"value\",\n",
      "            \"operator\": \"<=\"\n",
      "         },\n",
      "         {\n",
      "            \"label\": \"number_of_packages\",\n",
      "            \"target\": \"number_of_packages\",\n",
      "            \"operator\": \">=\"\n",
      "         }\n",
      "      ]\n",
      "   }\n",
      "]\n"
     ]
    }
   ],
   "source": [
    "# Lista todas as fases\n",
    "temp = phase.list()\n",
    "print( json.dumps(temp, indent=3) )"
   ]
  },
  {
   "cell_type": "code",
   "execution_count": 7,
   "metadata": {
    "pycharm": {}
   },
   "outputs": [
    {
     "name": "stdout",
     "output_type": "stream",
     "text": [
      "{\n",
      "   \"name\": \"test_query\",\n",
      "   \"type\": \"query\",\n",
      "   \"params\": [\n",
      "      {\n",
      "         \"label\": \"test\",\n",
      "         \"target\": \"value\",\n",
      "         \"operator\": \">\"\n",
      "      }\n",
      "   ],\n",
      "   \"created_at\": \"2019-05-08 15:53:35\",\n",
      "   \"updated_at\": \"2019-05-08 15:53:35\"\n",
      "}\n"
     ]
    }
   ],
   "source": [
    "# Criar/salvar uma nova fase\n",
    "temp = phase.create({\n",
    "    'name': 'test_query',\n",
    "    'type': 'query',\n",
    "    'params': [{\n",
    "        'label': 'test',\n",
    "        'target': 'value',\n",
    "        'operator': '>'\n",
    "    }]\n",
    "})\n",
    "print( json.dumps(temp, indent=3) )"
   ]
  },
  {
   "cell_type": "code",
   "execution_count": 8,
   "metadata": {
    "pycharm": {}
   },
   "outputs": [
    {
     "name": "stdout",
     "output_type": "stream",
     "text": [
      "{\n",
      "   \"name\": \"test_query\",\n",
      "   \"type\": \"query\",\n",
      "   \"created_at\": \"2019-05-08 15:53:35\",\n",
      "   \"updated_at\": \"2019-05-08 15:53:35\",\n",
      "   \"params\": [\n",
      "      {\n",
      "         \"label\": \"test\",\n",
      "         \"target\": \"value\",\n",
      "         \"operator\": \">\"\n",
      "      }\n",
      "   ]\n",
      "}\n"
     ]
    }
   ],
   "source": [
    "# Exibe uma única fase\n",
    "temp = phase.display('test_query')\n",
    "print( json.dumps(temp, indent=3) )"
   ]
  },
  {
   "cell_type": "code",
   "execution_count": 9,
   "metadata": {
    "pycharm": {}
   },
   "outputs": [
    {
     "name": "stdout",
     "output_type": "stream",
     "text": [
      "\n",
      "{\n",
      "   \"name\": \"test_query\",\n",
      "   \"type\": \"query\",\n",
      "   \"created_at\": \"2019-05-08 15:53:35\",\n",
      "   \"updated_at\": \"2019-05-08 15:53:35\",\n",
      "   \"params\": [\n",
      "      {\n",
      "         \"label\": \"test_updated\",\n",
      "         \"target\": \"value\",\n",
      "         \"operator\": \">\"\n",
      "      }\n",
      "   ]\n",
      "}\n"
     ]
    }
   ],
   "source": [
    "# Atualiza os detalhes de uma fase\n",
    "phase.update('test_query', {\n",
    "    'name': 'test_query',\n",
    "    'type': 'query',\n",
    "    'params': [{\n",
    "        'label': 'test_updated',\n",
    "        'target': 'value',\n",
    "        'operator': '>'\n",
    "    }]    \n",
    "})\n",
    "\n",
    "# Exibe alteração\n",
    "print()\n",
    "temp = phase.display('test_query')\n",
    "print( json.dumps(temp, indent=3) )"
   ]
  },
  {
   "cell_type": "markdown",
   "metadata": {
    "pycharm": {}
   },
   "source": [
    "### 2.2. EdgePipelineAxiom\n",
    "* Classe para criação, deleção, leitura e atualização de **axiomas** pertencentes ao pipeline;\n",
    "* Os **axiomas** são conjuntos de fases;\n",
    "* Determinam as alterações que ocorrerão em uma série temporal de acordo com suas fases;\n",
    "* Possuem sistema de privacidade, podendo ser públicos ou privados;"
   ]
  },
  {
   "cell_type": "code",
   "execution_count": 10,
   "metadata": {
    "pycharm": {}
   },
   "outputs": [],
   "source": [
    "axiom = pipeline.axiom()"
   ]
  },
  {
   "cell_type": "code",
   "execution_count": 11,
   "metadata": {
    "pycharm": {}
   },
   "outputs": [
    {
     "name": "stdout",
     "output_type": "stream",
     "text": [
      "{\n",
      "   \"private\": [],\n",
      "   \"public\": [\n",
      "      {\n",
      "         \"name\": \"time_axiom_v1\",\n",
      "         \"user_id\": 1,\n",
      "         \"public\": true,\n",
      "         \"created_at\": \"2019-05-08 15:52:41\",\n",
      "         \"updated_at\": \"2019-05-08 15:52:41\",\n",
      "         \"phases\": [\n",
      "            {\n",
      "               \"name\": \"time_query\",\n",
      "               \"type\": \"query\",\n",
      "               \"created_at\": \"2019-05-08 15:52:41\",\n",
      "               \"updated_at\": \"2019-05-08 15:52:41\",\n",
      "               \"pivot\": {\n",
      "                  \"phase_name\": \"time_query\",\n",
      "                  \"axiom_name\": \"time_axiom_v1\"\n",
      "               }\n",
      "            }\n",
      "         ]\n",
      "      },\n",
      "      {\n",
      "         \"name\": \"edge_axiom_v1\",\n",
      "         \"user_id\": 1,\n",
      "         \"public\": true,\n",
      "         \"created_at\": \"2019-05-08 15:52:41\",\n",
      "         \"updated_at\": \"2019-05-08 15:52:41\",\n",
      "         \"phases\": [\n",
      "            {\n",
      "               \"name\": \"time_query\",\n",
      "               \"type\": \"query\",\n",
      "               \"created_at\": \"2019-05-08 15:52:41\",\n",
      "               \"updated_at\": \"2019-05-08 15:52:41\",\n",
      "               \"pivot\": {\n",
      "                  \"phase_name\": \"time_query\",\n",
      "                  \"axiom_name\": \"edge_axiom_v1\"\n",
      "               }\n",
      "            },\n",
      "            {\n",
      "               \"name\": \"default_query\",\n",
      "               \"type\": \"query\",\n",
      "               \"created_at\": \"2019-05-08 15:52:41\",\n",
      "               \"updated_at\": \"2019-05-08 15:52:41\",\n",
      "               \"pivot\": {\n",
      "                  \"phase_name\": \"default_query\",\n",
      "                  \"axiom_name\": \"edge_axiom_v1\"\n",
      "               }\n",
      "            }\n",
      "         ]\n",
      "      }\n",
      "   ]\n",
      "}\n"
     ]
    }
   ],
   "source": [
    "# Lista todos os axiomas\n",
    "temp = axiom.list()\n",
    "print( json.dumps(temp, indent=3) )"
   ]
  },
  {
   "cell_type": "code",
   "execution_count": 12,
   "metadata": {
    "pycharm": {}
   },
   "outputs": [
    {
     "name": "stdout",
     "output_type": "stream",
     "text": [
      "{\n",
      "   \"name\": \"test_axiom_v1\",\n",
      "   \"public\": false,\n",
      "   \"user_id\": 1,\n",
      "   \"created_at\": \"2019-05-08 15:53:36\",\n",
      "   \"updated_at\": \"2019-05-08 15:53:36\",\n",
      "   \"phases\": [\n",
      "      {\n",
      "         \"name\": \"time_query\",\n",
      "         \"type\": \"query\",\n",
      "         \"created_at\": \"2019-05-08 15:52:41\",\n",
      "         \"updated_at\": \"2019-05-08 15:52:41\",\n",
      "         \"pivot\": {\n",
      "            \"phase_name\": \"time_query\",\n",
      "            \"axiom_name\": \"test_axiom_v1\"\n",
      "         }\n",
      "      },\n",
      "      {\n",
      "         \"name\": \"test_query\",\n",
      "         \"type\": \"query\",\n",
      "         \"created_at\": \"2019-05-08 15:53:35\",\n",
      "         \"updated_at\": \"2019-05-08 15:53:35\",\n",
      "         \"pivot\": {\n",
      "            \"phase_name\": \"test_query\",\n",
      "            \"axiom_name\": \"test_axiom_v1\"\n",
      "         }\n",
      "      }\n",
      "   ]\n",
      "}\n"
     ]
    }
   ],
   "source": [
    "# Criar/salvar um novo axioma\n",
    "temp = axiom.create({\n",
    "    'name': 'test_axiom_v1',\n",
    "    'public': False,\n",
    "    'phases': ['time_query', 'test_query']\n",
    "})\n",
    "print( json.dumps(temp, indent=3) )"
   ]
  },
  {
   "cell_type": "code",
   "execution_count": 13,
   "metadata": {
    "pycharm": {}
   },
   "outputs": [
    {
     "name": "stdout",
     "output_type": "stream",
     "text": [
      "{\n",
      "   \"name\": \"test_axiom_v1\",\n",
      "   \"user_id\": 1,\n",
      "   \"public\": false,\n",
      "   \"created_at\": \"2019-05-08 15:53:36\",\n",
      "   \"updated_at\": \"2019-05-08 15:53:36\",\n",
      "   \"phases\": [\n",
      "      {\n",
      "         \"name\": \"time_query\",\n",
      "         \"type\": \"query\",\n",
      "         \"created_at\": \"2019-05-08 15:52:41\",\n",
      "         \"updated_at\": \"2019-05-08 15:52:41\",\n",
      "         \"pivot\": {\n",
      "            \"phase_name\": \"time_query\",\n",
      "            \"axiom_name\": \"test_axiom_v1\"\n",
      "         }\n",
      "      },\n",
      "      {\n",
      "         \"name\": \"test_query\",\n",
      "         \"type\": \"query\",\n",
      "         \"created_at\": \"2019-05-08 15:53:35\",\n",
      "         \"updated_at\": \"2019-05-08 15:53:35\",\n",
      "         \"pivot\": {\n",
      "            \"phase_name\": \"test_query\",\n",
      "            \"axiom_name\": \"test_axiom_v1\"\n",
      "         }\n",
      "      }\n",
      "   ]\n",
      "}\n"
     ]
    }
   ],
   "source": [
    "# Exibe um único axioma\n",
    "temp = axiom.display('test_axiom_v1')\n",
    "print( json.dumps(temp, indent=3) )"
   ]
  },
  {
   "cell_type": "code",
   "execution_count": 14,
   "metadata": {
    "pycharm": {}
   },
   "outputs": [
    {
     "name": "stdout",
     "output_type": "stream",
     "text": [
      "\n",
      "{\n",
      "   \"name\": \"test_axiom_v1\",\n",
      "   \"user_id\": 1,\n",
      "   \"public\": true,\n",
      "   \"created_at\": \"2019-05-08 15:53:36\",\n",
      "   \"updated_at\": \"2019-05-08 15:53:36\",\n",
      "   \"phases\": [\n",
      "      {\n",
      "         \"name\": \"time_query\",\n",
      "         \"type\": \"query\",\n",
      "         \"created_at\": \"2019-05-08 15:52:41\",\n",
      "         \"updated_at\": \"2019-05-08 15:52:41\",\n",
      "         \"pivot\": {\n",
      "            \"phase_name\": \"time_query\",\n",
      "            \"axiom_name\": \"test_axiom_v1\"\n",
      "         }\n",
      "      },\n",
      "      {\n",
      "         \"name\": \"test_query\",\n",
      "         \"type\": \"query\",\n",
      "         \"created_at\": \"2019-05-08 15:53:35\",\n",
      "         \"updated_at\": \"2019-05-08 15:53:35\",\n",
      "         \"pivot\": {\n",
      "            \"phase_name\": \"test_query\",\n",
      "            \"axiom_name\": \"test_axiom_v1\"\n",
      "         }\n",
      "      }\n",
      "   ]\n",
      "}\n"
     ]
    }
   ],
   "source": [
    "# Atualiza os detalhes de um axioma\n",
    "axiom.update('test_axiom_v1', {\n",
    "    'public': True\n",
    "})\n",
    "\n",
    "# Exibe alteração\n",
    "print()\n",
    "temp = axiom.display('test_axiom_v1')\n",
    "print( json.dumps(temp, indent=3) )"
   ]
  },
  {
   "cell_type": "code",
   "execution_count": 15,
   "metadata": {
    "pycharm": {}
   },
   "outputs": [
    {
     "name": "stdout",
     "output_type": "stream",
     "text": [
      "{\n",
      "   \"message\": \"Axiom succesfully deleted\"\n",
      "}\n"
     ]
    }
   ],
   "source": [
    "# Deleta um axioma\n",
    "temp = axiom.delete('test_axiom_v1')\n",
    "print( json.dumps(temp, indent=3) )"
   ]
  },
  {
   "cell_type": "markdown",
   "metadata": {
    "pycharm": {}
   },
   "source": [
    "### 2.3. EdgePipelineSpecification\n",
    "* Classe para criação, deleção, leitura e atualização de **especificações** pertencentes ao pipeline;\n",
    "* Suas regras determinam quais axiomas serão utilizados para alterar cada série temporal de acordo com seus metadados (porta, sensor, código de dimensão, etc...);\n",
    "* Também determina quais os valores que o axioma irá utilizar para alteração da série temporal;"
   ]
  },
  {
   "cell_type": "code",
   "execution_count": 16,
   "metadata": {
    "pycharm": {}
   },
   "outputs": [],
   "source": [
    "spec = pipeline.specification()"
   ]
  },
  {
   "cell_type": "code",
   "execution_count": 17,
   "metadata": {
    "pycharm": {}
   },
   "outputs": [
    {
     "name": "stdout",
     "output_type": "stream",
     "text": [
      "{\n",
      "   \"private\": [],\n",
      "   \"public\": [\n",
      "      {\n",
      "         \"name\": \"default\",\n",
      "         \"user_id\": 1,\n",
      "         \"public\": true,\n",
      "         \"created_at\": \"2019-05-08 15:52:41\",\n",
      "         \"updated_at\": \"2019-05-08 15:52:41\",\n",
      "         \"rows\": [\n",
      "            {\n",
      "               \"id\": 1,\n",
      "               \"spec_name\": \"default\",\n",
      "               \"axiom_name\": \"edge_axiom_v1\",\n",
      "               \"query_profile\": {\n",
      "                  \"channel_code\": \"*\",\n",
      "                  \"channel_id\": \"*\",\n",
      "                  \"device_thing_code\": \"*\",\n",
      "                  \"edge_id\": \"*\",\n",
      "                  \"port\": \"*\",\n",
      "                  \"sensor\": \"*\",\n",
      "                  \"dimension_code\": \"1\",\n",
      "                  \"unity_code\": \"*\",\n",
      "                  \"thing_code\": \"*\"\n",
      "               },\n",
      "               \"axiom_params\": {\n",
      "                  \"from\": \"@\",\n",
      "                  \"to\": \"@\",\n",
      "                  \"lower_bound\": 0,\n",
      "                  \"upper_bound\": 50,\n",
      "                  \"number_of_packages\": \"#\"\n",
      "               },\n",
      "               \"created_at\": \"2019-05-08 15:52:41\",\n",
      "               \"updated_at\": \"2019-05-08 15:52:41\"\n",
      "            },\n",
      "            {\n",
      "               \"id\": 2,\n",
      "               \"spec_name\": \"default\",\n",
      "               \"axiom_name\": \"edge_axiom_v1\",\n",
      "               \"query_profile\": {\n",
      "                  \"channel_code\": \"*\",\n",
      "                  \"channel_id\": \"*\",\n",
      "                  \"device_thing_code\": \"*\",\n",
      "                  \"edge_id\": \"*\",\n",
      "                  \"port\": \"*\",\n",
      "                  \"sensor\": \"*\",\n",
      "                  \"dimension_code\": \"3\",\n",
      "                  \"unity_code\": \"*\",\n",
      "                  \"thing_code\": \"*\"\n",
      "               },\n",
      "               \"axiom_params\": {\n",
      "                  \"from\": \"@\",\n",
      "                  \"to\": \"@\",\n",
      "                  \"lower_bound\": 25,\n",
      "                  \"upper_bound\": 85,\n",
      "                  \"number_of_packages\": \"#\"\n",
      "               },\n",
      "               \"created_at\": \"2019-05-08 15:52:41\",\n",
      "               \"updated_at\": \"2019-05-08 15:52:41\"\n",
      "            },\n",
      "            {\n",
      "               \"id\": 3,\n",
      "               \"spec_name\": \"default\",\n",
      "               \"axiom_name\": \"edge_axiom_v1\",\n",
      "               \"query_profile\": {\n",
      "                  \"channel_code\": \"*\",\n",
      "                  \"channel_id\": \"*\",\n",
      "                  \"device_thing_code\": \"*\",\n",
      "                  \"edge_id\": \"*\",\n",
      "                  \"port\": \"*\",\n",
      "                  \"sensor\": \"*\",\n",
      "                  \"dimension_code\": \"7\",\n",
      "                  \"unity_code\": \"*\",\n",
      "                  \"thing_code\": \"*\"\n",
      "               },\n",
      "               \"axiom_params\": {\n",
      "                  \"from\": \"@\",\n",
      "                  \"to\": \"@\",\n",
      "                  \"lower_bound\": 0,\n",
      "                  \"upper_bound\": \"#\",\n",
      "                  \"number_of_packages\": \"#\"\n",
      "               },\n",
      "               \"created_at\": \"2019-05-08 15:52:41\",\n",
      "               \"updated_at\": \"2019-05-08 15:52:41\"\n",
      "            },\n",
      "            {\n",
      "               \"id\": 4,\n",
      "               \"spec_name\": \"default\",\n",
      "               \"axiom_name\": \"edge_axiom_v1\",\n",
      "               \"query_profile\": {\n",
      "                  \"channel_code\": \"*\",\n",
      "                  \"channel_id\": \"*\",\n",
      "                  \"device_thing_code\": \"*\",\n",
      "                  \"edge_id\": \"*\",\n",
      "                  \"port\": \"*\",\n",
      "                  \"sensor\": \"*\",\n",
      "                  \"dimension_code\": \"8\",\n",
      "                  \"unity_code\": \"*\",\n",
      "                  \"thing_code\": \"*\"\n",
      "               },\n",
      "               \"axiom_params\": {\n",
      "                  \"from\": \"@\",\n",
      "                  \"to\": \"@\",\n",
      "                  \"lower_bound\": 0,\n",
      "                  \"upper_bound\": 100,\n",
      "                  \"number_of_packages\": \"#\"\n",
      "               },\n",
      "               \"created_at\": \"2019-05-08 15:52:41\",\n",
      "               \"updated_at\": \"2019-05-08 15:52:41\"\n",
      "            },\n",
      "            {\n",
      "               \"id\": 5,\n",
      "               \"spec_name\": \"default\",\n",
      "               \"axiom_name\": \"edge_axiom_v1\",\n",
      "               \"query_profile\": {\n",
      "                  \"channel_code\": \"*\",\n",
      "                  \"channel_id\": \"*\",\n",
      "                  \"device_thing_code\": \"*\",\n",
      "                  \"edge_id\": \"*\",\n",
      "                  \"port\": \"*\",\n",
      "                  \"sensor\": \"*\",\n",
      "                  \"dimension_code\": \"*\",\n",
      "                  \"unity_code\": \"*\",\n",
      "                  \"thing_code\": \"*\"\n",
      "               },\n",
      "               \"axiom_params\": {\n",
      "                  \"from\": \"@\",\n",
      "                  \"to\": \"@\",\n",
      "                  \"lower_bound\": \"#\",\n",
      "                  \"upper_bound\": \"#\",\n",
      "                  \"number_of_packages\": \"#\"\n",
      "               },\n",
      "               \"created_at\": \"2019-05-08 15:52:41\",\n",
      "               \"updated_at\": \"2019-05-08 15:52:41\"\n",
      "            }\n",
      "         ]\n",
      "      },\n",
      "      {\n",
      "         \"name\": \"raw\",\n",
      "         \"user_id\": 1,\n",
      "         \"public\": true,\n",
      "         \"created_at\": \"2019-05-08 15:52:41\",\n",
      "         \"updated_at\": \"2019-05-08 15:52:41\",\n",
      "         \"rows\": [\n",
      "            {\n",
      "               \"id\": 6,\n",
      "               \"spec_name\": \"raw\",\n",
      "               \"axiom_name\": \"time_axiom_v1\",\n",
      "               \"query_profile\": {\n",
      "                  \"channel_code\": \"*\",\n",
      "                  \"channel_id\": \"*\",\n",
      "                  \"device_thing_code\": \"*\",\n",
      "                  \"edge_id\": \"*\",\n",
      "                  \"port\": \"*\",\n",
      "                  \"sensor\": \"*\",\n",
      "                  \"dimension_code\": \"*\",\n",
      "                  \"unity_code\": \"*\",\n",
      "                  \"thing_code\": \"*\"\n",
      "               },\n",
      "               \"axiom_params\": {\n",
      "                  \"from\": \"@\",\n",
      "                  \"to\": \"@\"\n",
      "               },\n",
      "               \"created_at\": \"2019-05-08 15:52:41\",\n",
      "               \"updated_at\": \"2019-05-08 15:52:41\"\n",
      "            }\n",
      "         ]\n",
      "      }\n",
      "   ]\n",
      "}\n"
     ]
    }
   ],
   "source": [
    "# Lista todas as especificações\n",
    "temp = spec.list()\n",
    "print( json.dumps(temp, indent=3) )"
   ]
  },
  {
   "cell_type": "code",
   "execution_count": 18,
   "metadata": {
    "pycharm": {}
   },
   "outputs": [
    {
     "name": "stdout",
     "output_type": "stream",
     "text": [
      "{\n",
      "   \"name\": \"test\",\n",
      "   \"public\": false,\n",
      "   \"user_id\": 1,\n",
      "   \"created_at\": \"2019-05-08 15:53:37\",\n",
      "   \"updated_at\": \"2019-05-08 15:53:37\",\n",
      "   \"rows\": [\n",
      "      {\n",
      "         \"id\": 7,\n",
      "         \"spec_name\": \"test\",\n",
      "         \"axiom_name\": \"edge_axiom_v1\",\n",
      "         \"query_profile\": {\n",
      "            \"channel_code\": \"*\",\n",
      "            \"channel_id\": \"*\",\n",
      "            \"device_thing_code\": \"*\",\n",
      "            \"edge_id\": \"*\",\n",
      "            \"port\": \"*\",\n",
      "            \"sensor\": \"*\",\n",
      "            \"dimension_code\": \"*\",\n",
      "            \"unity_code\": \"*\",\n",
      "            \"thing_code\": \"*\"\n",
      "         },\n",
      "         \"axiom_params\": {\n",
      "            \"from\": \"@\",\n",
      "            \"to\": \"@\",\n",
      "            \"lower_bound\": \"#\",\n",
      "            \"upper_bound\": \"#\",\n",
      "            \"number_of_packages\": \"#\"\n",
      "         },\n",
      "         \"created_at\": \"2019-05-08 15:53:37\",\n",
      "         \"updated_at\": \"2019-05-08 15:53:37\"\n",
      "      }\n",
      "   ]\n",
      "}\n"
     ]
    }
   ],
   "source": [
    "# Criar/salvar uma nova especificação\n",
    "temp = spec.create({\n",
    "    'name': 'test',\n",
    "    'public': False,\n",
    "    'rows': [{\n",
    "        'axiom_name': 'edge_axiom_v1',\n",
    "        'query_profile': {\n",
    "            'channel_code': '*',\n",
    "            'channel_id': '*',\n",
    "            'device_thing_code': '*',\n",
    "            'edge_id': '*',\n",
    "            'port': '*',\n",
    "            'sensor': '*',\n",
    "            'dimension_code': '*',\n",
    "            'unity_code': '*',\n",
    "            'thing_code': '*'\n",
    "        },\n",
    "        'axiom_params': {\n",
    "            'from': '@', 'to': '@', 'lower_bound': '#', 'upper_bound': '#', 'number_of_packages': '#'\n",
    "        }\n",
    "    }]\n",
    "})\n",
    "print( json.dumps(temp, indent=3) )"
   ]
  },
  {
   "cell_type": "code",
   "execution_count": 19,
   "metadata": {
    "pycharm": {}
   },
   "outputs": [
    {
     "name": "stdout",
     "output_type": "stream",
     "text": [
      "{\n",
      "   \"name\": \"test\",\n",
      "   \"user_id\": 1,\n",
      "   \"public\": false,\n",
      "   \"created_at\": \"2019-05-08 15:53:37\",\n",
      "   \"updated_at\": \"2019-05-08 15:53:37\",\n",
      "   \"rows\": [\n",
      "      {\n",
      "         \"id\": 7,\n",
      "         \"spec_name\": \"test\",\n",
      "         \"axiom_name\": \"edge_axiom_v1\",\n",
      "         \"query_profile\": {\n",
      "            \"channel_code\": \"*\",\n",
      "            \"channel_id\": \"*\",\n",
      "            \"device_thing_code\": \"*\",\n",
      "            \"edge_id\": \"*\",\n",
      "            \"port\": \"*\",\n",
      "            \"sensor\": \"*\",\n",
      "            \"dimension_code\": \"*\",\n",
      "            \"unity_code\": \"*\",\n",
      "            \"thing_code\": \"*\"\n",
      "         },\n",
      "         \"axiom_params\": {\n",
      "            \"from\": \"@\",\n",
      "            \"to\": \"@\",\n",
      "            \"lower_bound\": \"#\",\n",
      "            \"upper_bound\": \"#\",\n",
      "            \"number_of_packages\": \"#\"\n",
      "         },\n",
      "         \"created_at\": \"2019-05-08 15:53:37\",\n",
      "         \"updated_at\": \"2019-05-08 15:53:37\"\n",
      "      }\n",
      "   ]\n",
      "}\n"
     ]
    }
   ],
   "source": [
    "# Exibe uma única especificação\n",
    "temp = spec.display('test')\n",
    "print( json.dumps(temp, indent=3) )"
   ]
  },
  {
   "cell_type": "code",
   "execution_count": 20,
   "metadata": {
    "pycharm": {}
   },
   "outputs": [
    {
     "name": "stdout",
     "output_type": "stream",
     "text": [
      "\n",
      "{\n",
      "   \"name\": \"test\",\n",
      "   \"user_id\": 1,\n",
      "   \"public\": true,\n",
      "   \"created_at\": \"2019-05-08 15:53:37\",\n",
      "   \"updated_at\": \"2019-05-08 15:53:37\",\n",
      "   \"rows\": [\n",
      "      {\n",
      "         \"id\": 7,\n",
      "         \"spec_name\": \"test\",\n",
      "         \"axiom_name\": \"edge_axiom_v1\",\n",
      "         \"query_profile\": {\n",
      "            \"channel_code\": \"*\",\n",
      "            \"channel_id\": \"*\",\n",
      "            \"device_thing_code\": \"*\",\n",
      "            \"edge_id\": \"*\",\n",
      "            \"port\": \"*\",\n",
      "            \"sensor\": \"*\",\n",
      "            \"dimension_code\": \"*\",\n",
      "            \"unity_code\": \"*\",\n",
      "            \"thing_code\": \"*\"\n",
      "         },\n",
      "         \"axiom_params\": {\n",
      "            \"from\": \"@\",\n",
      "            \"to\": \"@\",\n",
      "            \"lower_bound\": \"#\",\n",
      "            \"upper_bound\": \"#\",\n",
      "            \"number_of_packages\": \"#\"\n",
      "         },\n",
      "         \"created_at\": \"2019-05-08 15:53:37\",\n",
      "         \"updated_at\": \"2019-05-08 15:53:37\"\n",
      "      }\n",
      "   ]\n",
      "}\n"
     ]
    }
   ],
   "source": [
    "# Atualiza os detalhes de uma especificação\n",
    "spec.update('test', {\n",
    "    'public': True\n",
    "})\n",
    "\n",
    "# Exibe alteração\n",
    "print()\n",
    "temp = spec.display('test')\n",
    "print( json.dumps(temp, indent=3) )"
   ]
  },
  {
   "cell_type": "code",
   "execution_count": 21,
   "metadata": {
    "pycharm": {}
   },
   "outputs": [
    {
     "name": "stdout",
     "output_type": "stream",
     "text": [
      "{\n",
      "   \"message\": \"Specification succesfully deleted\"\n",
      "}\n"
     ]
    }
   ],
   "source": [
    "# Deleta uma especificação\n",
    "temp = spec.delete('test')\n",
    "print( json.dumps(temp, indent=3) )"
   ]
  },
  {
   "cell_type": "markdown",
   "metadata": {
    "pycharm": {}
   },
   "source": [
    "## 3. EdgeDevice\n",
    "Classe para interação com as consultas oferecidas pela API:"
   ]
  },
  {
   "cell_type": "code",
   "execution_count": 22,
   "metadata": {
    "pycharm": {}
   },
   "outputs": [],
   "source": [
    "# Parâmetros utilizados no exemplo\n",
    "device = ''\n",
    "port = 0\n",
    "sensor = 1\n",
    "dimension = 15"
   ]
  },
  {
   "cell_type": "markdown",
   "metadata": {
    "pycharm": {}
   },
   "source": [
    "### 3.1. Describe\n",
    "* Funções de **descrição** de um dispositivo para conhecimento de suas portas, sensores e códigos de dimensão;"
   ]
  },
  {
   "cell_type": "markdown",
   "metadata": {
    "pycharm": {}
   },
   "source": [
    "#### Parâmetros Possíveis (Todos Opcionais)"
   ]
  },
  {
   "cell_type": "code",
   "execution_count": 23,
   "metadata": {
    "pycharm": {}
   },
   "outputs": [],
   "source": [
    "params = {\n",
    "    'from': None,\n",
    "    'to': None,\n",
    "    'precision': 'ms',\n",
    "    'sort': True\n",
    "}"
   ]
  },
  {
   "cell_type": "markdown",
   "metadata": {
    "pycharm": {}
   },
   "source": [
    "#### Lista de Portas"
   ]
  },
  {
   "cell_type": "code",
   "execution_count": 24,
   "metadata": {
    "pycharm": {}
   },
   "outputs": [
    {
     "data": {
      "text/plain": [
       "['0', '1', '2', '4', '5', '8', '9']"
      ]
     },
     "execution_count": 24,
     "metadata": {},
     "output_type": "execute_result"
    }
   ],
   "source": [
    "# /describe/device/:device/ports\n",
    "portiaApi.device(device).ports(params=params)"
   ]
  },
  {
   "cell_type": "code",
   "execution_count": 25,
   "metadata": {
    "pycharm": {}
   },
   "outputs": [
    {
     "data": {
      "text/html": [
       "<div>\n",
       "<style scoped>\n",
       "    .dataframe tbody tr th:only-of-type {\n",
       "        vertical-align: middle;\n",
       "    }\n",
       "\n",
       "    .dataframe tbody tr th {\n",
       "        vertical-align: top;\n",
       "    }\n",
       "\n",
       "    .dataframe thead th {\n",
       "        text-align: right;\n",
       "    }\n",
       "</style>\n",
       "<table border=\"1\" class=\"dataframe\">\n",
       "  <thead>\n",
       "    <tr style=\"text-align: right;\">\n",
       "      <th></th>\n",
       "      <th>header_timestamp</th>\n",
       "      <th>port</th>\n",
       "      <th>dimension_thing_code</th>\n",
       "    </tr>\n",
       "  </thead>\n",
       "  <tbody>\n",
       "    <tr>\n",
       "      <th>0</th>\n",
       "      <td>1555077357080</td>\n",
       "      <td>0</td>\n",
       "      <td>28</td>\n",
       "    </tr>\n",
       "    <tr>\n",
       "      <th>1</th>\n",
       "      <td>1555077892670</td>\n",
       "      <td>1</td>\n",
       "      <td>15</td>\n",
       "    </tr>\n",
       "    <tr>\n",
       "      <th>2</th>\n",
       "      <td>1554370399201</td>\n",
       "      <td>2</td>\n",
       "      <td>15</td>\n",
       "    </tr>\n",
       "    <tr>\n",
       "      <th>3</th>\n",
       "      <td>1555077892679</td>\n",
       "      <td>4</td>\n",
       "      <td>16</td>\n",
       "    </tr>\n",
       "    <tr>\n",
       "      <th>4</th>\n",
       "      <td>1555077892686</td>\n",
       "      <td>5</td>\n",
       "      <td>16</td>\n",
       "    </tr>\n",
       "    <tr>\n",
       "      <th>5</th>\n",
       "      <td>1555077892693</td>\n",
       "      <td>8</td>\n",
       "      <td>22</td>\n",
       "    </tr>\n",
       "    <tr>\n",
       "      <th>6</th>\n",
       "      <td>1555077892700</td>\n",
       "      <td>9</td>\n",
       "      <td>22</td>\n",
       "    </tr>\n",
       "  </tbody>\n",
       "</table>\n",
       "</div>"
      ],
      "text/plain": [
       "   header_timestamp port  dimension_thing_code\n",
       "0     1555077357080    0                    28\n",
       "1     1555077892670    1                    15\n",
       "2     1554370399201    2                    15\n",
       "3     1555077892679    4                    16\n",
       "4     1555077892686    5                    16\n",
       "5     1555077892693    8                    22\n",
       "6     1555077892700    9                    22"
      ]
     },
     "execution_count": 25,
     "metadata": {},
     "output_type": "execute_result"
    }
   ],
   "source": [
    "# /describe/device/:device/ports/last\n",
    "portiaApi.device(device).ports(last=True, params=params)"
   ]
  },
  {
   "cell_type": "code",
   "execution_count": 26,
   "metadata": {
    "pycharm": {}
   },
   "outputs": [
    {
     "data": {
      "text/html": [
       "<div>\n",
       "<style scoped>\n",
       "    .dataframe tbody tr th:only-of-type {\n",
       "        vertical-align: middle;\n",
       "    }\n",
       "\n",
       "    .dataframe tbody tr th {\n",
       "        vertical-align: top;\n",
       "    }\n",
       "\n",
       "    .dataframe thead th {\n",
       "        text-align: right;\n",
       "    }\n",
       "</style>\n",
       "<table border=\"1\" class=\"dataframe\">\n",
       "  <thead>\n",
       "    <tr style=\"text-align: right;\">\n",
       "      <th></th>\n",
       "      <th>header_timestamp</th>\n",
       "      <th>port</th>\n",
       "      <th>dimension_thing</th>\n",
       "    </tr>\n",
       "  </thead>\n",
       "  <tbody>\n",
       "    <tr>\n",
       "      <th>0</th>\n",
       "      <td>1555077357080</td>\n",
       "      <td>0</td>\n",
       "      <td>VirtualHubAmbientte</td>\n",
       "    </tr>\n",
       "    <tr>\n",
       "      <th>1</th>\n",
       "      <td>1555077892670</td>\n",
       "      <td>1</td>\n",
       "      <td>SondaSmaaiT</td>\n",
       "    </tr>\n",
       "    <tr>\n",
       "      <th>2</th>\n",
       "      <td>1554370399201</td>\n",
       "      <td>2</td>\n",
       "      <td>SondaSmaaiT</td>\n",
       "    </tr>\n",
       "    <tr>\n",
       "      <th>3</th>\n",
       "      <td>1555077892679</td>\n",
       "      <td>4</td>\n",
       "      <td>SondaSmaaiTU</td>\n",
       "    </tr>\n",
       "    <tr>\n",
       "      <th>4</th>\n",
       "      <td>1555077892686</td>\n",
       "      <td>5</td>\n",
       "      <td>SondaSmaaiTU</td>\n",
       "    </tr>\n",
       "    <tr>\n",
       "      <th>5</th>\n",
       "      <td>1555077892693</td>\n",
       "      <td>8</td>\n",
       "      <td>SondaSmaaiH2O</td>\n",
       "    </tr>\n",
       "    <tr>\n",
       "      <th>6</th>\n",
       "      <td>1555077892700</td>\n",
       "      <td>9</td>\n",
       "      <td>SondaSmaaiH2O</td>\n",
       "    </tr>\n",
       "  </tbody>\n",
       "</table>\n",
       "</div>"
      ],
      "text/plain": [
       "   header_timestamp port      dimension_thing\n",
       "0     1555077357080    0  VirtualHubAmbientte\n",
       "1     1555077892670    1          SondaSmaaiT\n",
       "2     1554370399201    2          SondaSmaaiT\n",
       "3     1555077892679    4         SondaSmaaiTU\n",
       "4     1555077892686    5         SondaSmaaiTU\n",
       "5     1555077892693    8        SondaSmaaiH2O\n",
       "6     1555077892700    9        SondaSmaaiH2O"
      ]
     },
     "execution_count": 26,
     "metadata": {},
     "output_type": "execute_result"
    }
   ],
   "source": [
    "# With humanization\n",
    "portiaApi.device(device).ports(last=True, params=params).humanize()"
   ]
  },
  {
   "cell_type": "code",
   "execution_count": 27,
   "metadata": {
    "pycharm": {}
   },
   "outputs": [
    {
     "data": {
      "text/html": [
       "<div>\n",
       "<style scoped>\n",
       "    .dataframe tbody tr th:only-of-type {\n",
       "        vertical-align: middle;\n",
       "    }\n",
       "\n",
       "    .dataframe tbody tr th {\n",
       "        vertical-align: top;\n",
       "    }\n",
       "\n",
       "    .dataframe thead th {\n",
       "        text-align: right;\n",
       "    }\n",
       "</style>\n",
       "<table border=\"1\" class=\"dataframe\">\n",
       "  <thead>\n",
       "    <tr style=\"text-align: right;\">\n",
       "      <th></th>\n",
       "      <th>header_datetime</th>\n",
       "      <th>port</th>\n",
       "      <th>dimension_thing</th>\n",
       "    </tr>\n",
       "  </thead>\n",
       "  <tbody>\n",
       "    <tr>\n",
       "      <th>0</th>\n",
       "      <td>a month ago</td>\n",
       "      <td>0</td>\n",
       "      <td>VirtualHubAmbientte</td>\n",
       "    </tr>\n",
       "    <tr>\n",
       "      <th>1</th>\n",
       "      <td>a month ago</td>\n",
       "      <td>1</td>\n",
       "      <td>SondaSmaaiT</td>\n",
       "    </tr>\n",
       "    <tr>\n",
       "      <th>2</th>\n",
       "      <td>a month ago</td>\n",
       "      <td>2</td>\n",
       "      <td>SondaSmaaiT</td>\n",
       "    </tr>\n",
       "    <tr>\n",
       "      <th>3</th>\n",
       "      <td>a month ago</td>\n",
       "      <td>4</td>\n",
       "      <td>SondaSmaaiTU</td>\n",
       "    </tr>\n",
       "    <tr>\n",
       "      <th>4</th>\n",
       "      <td>a month ago</td>\n",
       "      <td>5</td>\n",
       "      <td>SondaSmaaiTU</td>\n",
       "    </tr>\n",
       "    <tr>\n",
       "      <th>5</th>\n",
       "      <td>a month ago</td>\n",
       "      <td>8</td>\n",
       "      <td>SondaSmaaiH2O</td>\n",
       "    </tr>\n",
       "    <tr>\n",
       "      <th>6</th>\n",
       "      <td>a month ago</td>\n",
       "      <td>9</td>\n",
       "      <td>SondaSmaaiH2O</td>\n",
       "    </tr>\n",
       "  </tbody>\n",
       "</table>\n",
       "</div>"
      ],
      "text/plain": [
       "  header_datetime port      dimension_thing\n",
       "0     a month ago    0  VirtualHubAmbientte\n",
       "1     a month ago    1          SondaSmaaiT\n",
       "2     a month ago    2          SondaSmaaiT\n",
       "3     a month ago    4         SondaSmaaiTU\n",
       "4     a month ago    5         SondaSmaaiTU\n",
       "5     a month ago    8        SondaSmaaiH2O\n",
       "6     a month ago    9        SondaSmaaiH2O"
      ]
     },
     "execution_count": 27,
     "metadata": {},
     "output_type": "execute_result"
    }
   ],
   "source": [
    "# With timestamp humanization\n",
    "portiaApi.device(device).ports(last=True, params=params).humanize(datetime=True)"
   ]
  },
  {
   "cell_type": "markdown",
   "metadata": {
    "pycharm": {}
   },
   "source": [
    "#### Lista de Sensores por Porta"
   ]
  },
  {
   "cell_type": "code",
   "execution_count": 28,
   "metadata": {
    "pycharm": {}
   },
   "outputs": [
    {
     "data": {
      "text/plain": [
       "['1', '2']"
      ]
     },
     "execution_count": 28,
     "metadata": {},
     "output_type": "execute_result"
    }
   ],
   "source": [
    "# /describe/device/:device/port/:port/sensors\n",
    "portiaApi.device(device).port(port).sensors(params=params)"
   ]
  },
  {
   "cell_type": "code",
   "execution_count": 29,
   "metadata": {
    "pycharm": {}
   },
   "outputs": [
    {
     "data": {
      "text/html": [
       "<div>\n",
       "<style scoped>\n",
       "    .dataframe tbody tr th:only-of-type {\n",
       "        vertical-align: middle;\n",
       "    }\n",
       "\n",
       "    .dataframe tbody tr th {\n",
       "        vertical-align: top;\n",
       "    }\n",
       "\n",
       "    .dataframe thead th {\n",
       "        text-align: right;\n",
       "    }\n",
       "</style>\n",
       "<table border=\"1\" class=\"dataframe\">\n",
       "  <thead>\n",
       "    <tr style=\"text-align: right;\">\n",
       "      <th></th>\n",
       "      <th>header_timestamp</th>\n",
       "      <th>sensor</th>\n",
       "      <th>dimension_value</th>\n",
       "      <th>dimension_code</th>\n",
       "      <th>dimension_unity_code</th>\n",
       "      <th>dimension_thing_code</th>\n",
       "    </tr>\n",
       "  </thead>\n",
       "  <tbody>\n",
       "    <tr>\n",
       "      <th>0</th>\n",
       "      <td>1555077892693</td>\n",
       "      <td>2</td>\n",
       "      <td>24733</td>\n",
       "      <td>7</td>\n",
       "      <td>4</td>\n",
       "      <td>22</td>\n",
       "    </tr>\n",
       "    <tr>\n",
       "      <th>1</th>\n",
       "      <td>1555077892690</td>\n",
       "      <td>1</td>\n",
       "      <td>5129</td>\n",
       "      <td>8</td>\n",
       "      <td>7</td>\n",
       "      <td>22</td>\n",
       "    </tr>\n",
       "  </tbody>\n",
       "</table>\n",
       "</div>"
      ],
      "text/plain": [
       "   header_timestamp sensor  dimension_value dimension_code  \\\n",
       "0     1555077892693      2            24733              7   \n",
       "1     1555077892690      1             5129              8   \n",
       "\n",
       "   dimension_unity_code  dimension_thing_code  \n",
       "0                     4                    22  \n",
       "1                     7                    22  "
      ]
     },
     "execution_count": 29,
     "metadata": {},
     "output_type": "execute_result"
    }
   ],
   "source": [
    "# /describe/device/:device/port/:port/sensors/last\n",
    "portiaApi.device(device).port(port).sensors(last=True, params=params)"
   ]
  },
  {
   "cell_type": "code",
   "execution_count": 30,
   "metadata": {
    "pycharm": {}
   },
   "outputs": [
    {
     "data": {
      "text/html": [
       "<div>\n",
       "<style scoped>\n",
       "    .dataframe tbody tr th:only-of-type {\n",
       "        vertical-align: middle;\n",
       "    }\n",
       "\n",
       "    .dataframe tbody tr th {\n",
       "        vertical-align: top;\n",
       "    }\n",
       "\n",
       "    .dataframe thead th {\n",
       "        text-align: right;\n",
       "    }\n",
       "</style>\n",
       "<table border=\"1\" class=\"dataframe\">\n",
       "  <thead>\n",
       "    <tr style=\"text-align: right;\">\n",
       "      <th></th>\n",
       "      <th>header_timestamp</th>\n",
       "      <th>sensor</th>\n",
       "      <th>dimension_value</th>\n",
       "      <th>dimension</th>\n",
       "      <th>dimension_unity</th>\n",
       "      <th>dimension_thing</th>\n",
       "    </tr>\n",
       "  </thead>\n",
       "  <tbody>\n",
       "    <tr>\n",
       "      <th>0</th>\n",
       "      <td>1555077892693</td>\n",
       "      <td>2</td>\n",
       "      <td>24733</td>\n",
       "      <td>Fluxo Acumulado</td>\n",
       "      <td>L</td>\n",
       "      <td>SondaSmaaiH2O</td>\n",
       "    </tr>\n",
       "    <tr>\n",
       "      <th>1</th>\n",
       "      <td>1555077892690</td>\n",
       "      <td>1</td>\n",
       "      <td>5129</td>\n",
       "      <td>Fluxo Pontual</td>\n",
       "      <td>L/min</td>\n",
       "      <td>SondaSmaaiH2O</td>\n",
       "    </tr>\n",
       "  </tbody>\n",
       "</table>\n",
       "</div>"
      ],
      "text/plain": [
       "   header_timestamp sensor  dimension_value        dimension dimension_unity  \\\n",
       "0     1555077892693      2            24733  Fluxo Acumulado               L   \n",
       "1     1555077892690      1             5129    Fluxo Pontual           L/min   \n",
       "\n",
       "  dimension_thing  \n",
       "0   SondaSmaaiH2O  \n",
       "1   SondaSmaaiH2O  "
      ]
     },
     "execution_count": 30,
     "metadata": {},
     "output_type": "execute_result"
    }
   ],
   "source": [
    "# With humanization\n",
    "portiaApi.device(device).port(port).sensors(last=True, params=params).humanize()"
   ]
  },
  {
   "cell_type": "code",
   "execution_count": 31,
   "metadata": {
    "pycharm": {}
   },
   "outputs": [
    {
     "data": {
      "text/html": [
       "<div>\n",
       "<style scoped>\n",
       "    .dataframe tbody tr th:only-of-type {\n",
       "        vertical-align: middle;\n",
       "    }\n",
       "\n",
       "    .dataframe tbody tr th {\n",
       "        vertical-align: top;\n",
       "    }\n",
       "\n",
       "    .dataframe thead th {\n",
       "        text-align: right;\n",
       "    }\n",
       "</style>\n",
       "<table border=\"1\" class=\"dataframe\">\n",
       "  <thead>\n",
       "    <tr style=\"text-align: right;\">\n",
       "      <th></th>\n",
       "      <th>header_datetime</th>\n",
       "      <th>sensor</th>\n",
       "      <th>dimension_value</th>\n",
       "      <th>dimension</th>\n",
       "      <th>dimension_unity</th>\n",
       "      <th>dimension_thing</th>\n",
       "    </tr>\n",
       "  </thead>\n",
       "  <tbody>\n",
       "    <tr>\n",
       "      <th>0</th>\n",
       "      <td>a month ago</td>\n",
       "      <td>2</td>\n",
       "      <td>24733</td>\n",
       "      <td>Fluxo Acumulado</td>\n",
       "      <td>L</td>\n",
       "      <td>SondaSmaaiH2O</td>\n",
       "    </tr>\n",
       "    <tr>\n",
       "      <th>1</th>\n",
       "      <td>a month ago</td>\n",
       "      <td>1</td>\n",
       "      <td>5129</td>\n",
       "      <td>Fluxo Pontual</td>\n",
       "      <td>L/min</td>\n",
       "      <td>SondaSmaaiH2O</td>\n",
       "    </tr>\n",
       "  </tbody>\n",
       "</table>\n",
       "</div>"
      ],
      "text/plain": [
       "  header_datetime sensor  dimension_value        dimension dimension_unity  \\\n",
       "0     a month ago      2            24733  Fluxo Acumulado               L   \n",
       "1     a month ago      1             5129    Fluxo Pontual           L/min   \n",
       "\n",
       "  dimension_thing  \n",
       "0   SondaSmaaiH2O  \n",
       "1   SondaSmaaiH2O  "
      ]
     },
     "execution_count": 31,
     "metadata": {},
     "output_type": "execute_result"
    }
   ],
   "source": [
    "# With timestamp humanization\n",
    "portiaApi.device(device).port(port).sensors(last=True, params=params).humanize(datetime=True)"
   ]
  },
  {
   "cell_type": "markdown",
   "metadata": {
    "pycharm": {}
   },
   "source": [
    "#### Lista de Códigos de Dimensão por Porta"
   ]
  },
  {
   "cell_type": "code",
   "execution_count": 32,
   "metadata": {
    "pycharm": {}
   },
   "outputs": [
    {
     "data": {
      "text/plain": [
       "['7', '8']"
      ]
     },
     "execution_count": 32,
     "metadata": {},
     "output_type": "execute_result"
    }
   ],
   "source": [
    "# /describe/device/:device/port/:port/dimensions\n",
    "portiaApi.device(device).port(port).dimensions(params=params)"
   ]
  },
  {
   "cell_type": "code",
   "execution_count": 33,
   "metadata": {
    "pycharm": {}
   },
   "outputs": [
    {
     "data": {
      "text/html": [
       "<div>\n",
       "<style scoped>\n",
       "    .dataframe tbody tr th:only-of-type {\n",
       "        vertical-align: middle;\n",
       "    }\n",
       "\n",
       "    .dataframe tbody tr th {\n",
       "        vertical-align: top;\n",
       "    }\n",
       "\n",
       "    .dataframe thead th {\n",
       "        text-align: right;\n",
       "    }\n",
       "</style>\n",
       "<table border=\"1\" class=\"dataframe\">\n",
       "  <thead>\n",
       "    <tr style=\"text-align: right;\">\n",
       "      <th></th>\n",
       "      <th>header_timestamp</th>\n",
       "      <th>dimension_code</th>\n",
       "      <th>sensor</th>\n",
       "      <th>dimension_thing_code</th>\n",
       "    </tr>\n",
       "  </thead>\n",
       "  <tbody>\n",
       "    <tr>\n",
       "      <th>0</th>\n",
       "      <td>1555077892693</td>\n",
       "      <td>7</td>\n",
       "      <td>2</td>\n",
       "      <td>22</td>\n",
       "    </tr>\n",
       "    <tr>\n",
       "      <th>1</th>\n",
       "      <td>1555077892690</td>\n",
       "      <td>8</td>\n",
       "      <td>1</td>\n",
       "      <td>22</td>\n",
       "    </tr>\n",
       "  </tbody>\n",
       "</table>\n",
       "</div>"
      ],
      "text/plain": [
       "   header_timestamp dimension_code sensor  dimension_thing_code\n",
       "0     1555077892693              7      2                    22\n",
       "1     1555077892690              8      1                    22"
      ]
     },
     "execution_count": 33,
     "metadata": {},
     "output_type": "execute_result"
    }
   ],
   "source": [
    "# /describe/device/:device/port/:port/dimensions/last\n",
    "portiaApi.device(device).port(port).dimensions(last=True, params=params)"
   ]
  },
  {
   "cell_type": "code",
   "execution_count": 34,
   "metadata": {
    "pycharm": {}
   },
   "outputs": [
    {
     "data": {
      "text/html": [
       "<div>\n",
       "<style scoped>\n",
       "    .dataframe tbody tr th:only-of-type {\n",
       "        vertical-align: middle;\n",
       "    }\n",
       "\n",
       "    .dataframe tbody tr th {\n",
       "        vertical-align: top;\n",
       "    }\n",
       "\n",
       "    .dataframe thead th {\n",
       "        text-align: right;\n",
       "    }\n",
       "</style>\n",
       "<table border=\"1\" class=\"dataframe\">\n",
       "  <thead>\n",
       "    <tr style=\"text-align: right;\">\n",
       "      <th></th>\n",
       "      <th>header_timestamp</th>\n",
       "      <th>dimension</th>\n",
       "      <th>sensor</th>\n",
       "      <th>dimension_thing</th>\n",
       "    </tr>\n",
       "  </thead>\n",
       "  <tbody>\n",
       "    <tr>\n",
       "      <th>0</th>\n",
       "      <td>1555077892693</td>\n",
       "      <td>Fluxo Acumulado</td>\n",
       "      <td>2</td>\n",
       "      <td>SondaSmaaiH2O</td>\n",
       "    </tr>\n",
       "    <tr>\n",
       "      <th>1</th>\n",
       "      <td>1555077892690</td>\n",
       "      <td>Fluxo Pontual</td>\n",
       "      <td>1</td>\n",
       "      <td>SondaSmaaiH2O</td>\n",
       "    </tr>\n",
       "  </tbody>\n",
       "</table>\n",
       "</div>"
      ],
      "text/plain": [
       "   header_timestamp        dimension sensor dimension_thing\n",
       "0     1555077892693  Fluxo Acumulado      2   SondaSmaaiH2O\n",
       "1     1555077892690    Fluxo Pontual      1   SondaSmaaiH2O"
      ]
     },
     "execution_count": 34,
     "metadata": {},
     "output_type": "execute_result"
    }
   ],
   "source": [
    "# With humanization\n",
    "portiaApi.device(device).port(port).dimensions(last=True, params=params).humanize()"
   ]
  },
  {
   "cell_type": "code",
   "execution_count": 35,
   "metadata": {
    "pycharm": {}
   },
   "outputs": [
    {
     "data": {
      "text/html": [
       "<div>\n",
       "<style scoped>\n",
       "    .dataframe tbody tr th:only-of-type {\n",
       "        vertical-align: middle;\n",
       "    }\n",
       "\n",
       "    .dataframe tbody tr th {\n",
       "        vertical-align: top;\n",
       "    }\n",
       "\n",
       "    .dataframe thead th {\n",
       "        text-align: right;\n",
       "    }\n",
       "</style>\n",
       "<table border=\"1\" class=\"dataframe\">\n",
       "  <thead>\n",
       "    <tr style=\"text-align: right;\">\n",
       "      <th></th>\n",
       "      <th>header_datetime</th>\n",
       "      <th>dimension</th>\n",
       "      <th>sensor</th>\n",
       "      <th>dimension_thing</th>\n",
       "    </tr>\n",
       "  </thead>\n",
       "  <tbody>\n",
       "    <tr>\n",
       "      <th>0</th>\n",
       "      <td>a month ago</td>\n",
       "      <td>Fluxo Acumulado</td>\n",
       "      <td>2</td>\n",
       "      <td>SondaSmaaiH2O</td>\n",
       "    </tr>\n",
       "    <tr>\n",
       "      <th>1</th>\n",
       "      <td>a month ago</td>\n",
       "      <td>Fluxo Pontual</td>\n",
       "      <td>1</td>\n",
       "      <td>SondaSmaaiH2O</td>\n",
       "    </tr>\n",
       "  </tbody>\n",
       "</table>\n",
       "</div>"
      ],
      "text/plain": [
       "  header_datetime        dimension sensor dimension_thing\n",
       "0     a month ago  Fluxo Acumulado      2   SondaSmaaiH2O\n",
       "1     a month ago    Fluxo Pontual      1   SondaSmaaiH2O"
      ]
     },
     "execution_count": 35,
     "metadata": {},
     "output_type": "execute_result"
    }
   ],
   "source": [
    "# With timestamp humanization\n",
    "portiaApi.device(device).port(port).dimensions(last=True, params=params).humanize(datetime=True)"
   ]
  },
  {
   "cell_type": "markdown",
   "metadata": {
    "pycharm": {}
   },
   "source": [
    "#### Lista de Códigos de Dimensão por Porta e Sensor"
   ]
  },
  {
   "cell_type": "code",
   "execution_count": 36,
   "metadata": {
    "pycharm": {}
   },
   "outputs": [
    {
     "data": {
      "text/plain": [
       "['8']"
      ]
     },
     "execution_count": 36,
     "metadata": {},
     "output_type": "execute_result"
    }
   ],
   "source": [
    "# /describe/device/:device/port/:port/sensor/:sensor/dimensions\n",
    "portiaApi.device(device).port(port).sensor(sensor).dimensions(params=params)"
   ]
  },
  {
   "cell_type": "code",
   "execution_count": 37,
   "metadata": {
    "pycharm": {}
   },
   "outputs": [
    {
     "data": {
      "text/html": [
       "<div>\n",
       "<style scoped>\n",
       "    .dataframe tbody tr th:only-of-type {\n",
       "        vertical-align: middle;\n",
       "    }\n",
       "\n",
       "    .dataframe tbody tr th {\n",
       "        vertical-align: top;\n",
       "    }\n",
       "\n",
       "    .dataframe thead th {\n",
       "        text-align: right;\n",
       "    }\n",
       "</style>\n",
       "<table border=\"1\" class=\"dataframe\">\n",
       "  <thead>\n",
       "    <tr style=\"text-align: right;\">\n",
       "      <th></th>\n",
       "      <th>header_timestamp</th>\n",
       "      <th>dimension_value</th>\n",
       "      <th>dimension_code</th>\n",
       "      <th>dimension_unity_code</th>\n",
       "      <th>dimension_thing_code</th>\n",
       "    </tr>\n",
       "  </thead>\n",
       "  <tbody>\n",
       "    <tr>\n",
       "      <th>0</th>\n",
       "      <td>1555077892690</td>\n",
       "      <td>5129</td>\n",
       "      <td>8</td>\n",
       "      <td>7</td>\n",
       "      <td>22</td>\n",
       "    </tr>\n",
       "  </tbody>\n",
       "</table>\n",
       "</div>"
      ],
      "text/plain": [
       "   header_timestamp  dimension_value dimension_code  dimension_unity_code  \\\n",
       "0     1555077892690             5129              8                     7   \n",
       "\n",
       "   dimension_thing_code  \n",
       "0                    22  "
      ]
     },
     "execution_count": 37,
     "metadata": {},
     "output_type": "execute_result"
    }
   ],
   "source": [
    "# /describe/device/:device/port/:port/sensor/:sensor/dimensions/last\n",
    "portiaApi.device(device).port(port).sensor(sensor).dimensions(last=True, params=params)"
   ]
  },
  {
   "cell_type": "code",
   "execution_count": 38,
   "metadata": {
    "pycharm": {}
   },
   "outputs": [
    {
     "data": {
      "text/html": [
       "<div>\n",
       "<style scoped>\n",
       "    .dataframe tbody tr th:only-of-type {\n",
       "        vertical-align: middle;\n",
       "    }\n",
       "\n",
       "    .dataframe tbody tr th {\n",
       "        vertical-align: top;\n",
       "    }\n",
       "\n",
       "    .dataframe thead th {\n",
       "        text-align: right;\n",
       "    }\n",
       "</style>\n",
       "<table border=\"1\" class=\"dataframe\">\n",
       "  <thead>\n",
       "    <tr style=\"text-align: right;\">\n",
       "      <th></th>\n",
       "      <th>header_timestamp</th>\n",
       "      <th>dimension_value</th>\n",
       "      <th>dimension</th>\n",
       "      <th>dimension_unity</th>\n",
       "      <th>dimension_thing</th>\n",
       "    </tr>\n",
       "  </thead>\n",
       "  <tbody>\n",
       "    <tr>\n",
       "      <th>0</th>\n",
       "      <td>1555077892690</td>\n",
       "      <td>5129</td>\n",
       "      <td>Fluxo Pontual</td>\n",
       "      <td>L/min</td>\n",
       "      <td>SondaSmaaiH2O</td>\n",
       "    </tr>\n",
       "  </tbody>\n",
       "</table>\n",
       "</div>"
      ],
      "text/plain": [
       "   header_timestamp  dimension_value      dimension dimension_unity  \\\n",
       "0     1555077892690             5129  Fluxo Pontual           L/min   \n",
       "\n",
       "  dimension_thing  \n",
       "0   SondaSmaaiH2O  "
      ]
     },
     "execution_count": 38,
     "metadata": {},
     "output_type": "execute_result"
    }
   ],
   "source": [
    "# With humanization\n",
    "portiaApi.device(device).port(port).sensor(sensor).dimensions(last=True, params=params).humanize()"
   ]
  },
  {
   "cell_type": "code",
   "execution_count": 39,
   "metadata": {
    "pycharm": {}
   },
   "outputs": [
    {
     "data": {
      "text/html": [
       "<div>\n",
       "<style scoped>\n",
       "    .dataframe tbody tr th:only-of-type {\n",
       "        vertical-align: middle;\n",
       "    }\n",
       "\n",
       "    .dataframe tbody tr th {\n",
       "        vertical-align: top;\n",
       "    }\n",
       "\n",
       "    .dataframe thead th {\n",
       "        text-align: right;\n",
       "    }\n",
       "</style>\n",
       "<table border=\"1\" class=\"dataframe\">\n",
       "  <thead>\n",
       "    <tr style=\"text-align: right;\">\n",
       "      <th></th>\n",
       "      <th>header_datetime</th>\n",
       "      <th>dimension_value</th>\n",
       "      <th>dimension</th>\n",
       "      <th>dimension_unity</th>\n",
       "      <th>dimension_thing</th>\n",
       "    </tr>\n",
       "  </thead>\n",
       "  <tbody>\n",
       "    <tr>\n",
       "      <th>0</th>\n",
       "      <td>a month ago</td>\n",
       "      <td>5129</td>\n",
       "      <td>Fluxo Pontual</td>\n",
       "      <td>L/min</td>\n",
       "      <td>SondaSmaaiH2O</td>\n",
       "    </tr>\n",
       "  </tbody>\n",
       "</table>\n",
       "</div>"
      ],
      "text/plain": [
       "  header_datetime  dimension_value      dimension dimension_unity  \\\n",
       "0     a month ago             5129  Fluxo Pontual           L/min   \n",
       "\n",
       "  dimension_thing  \n",
       "0   SondaSmaaiH2O  "
      ]
     },
     "execution_count": 39,
     "metadata": {},
     "output_type": "execute_result"
    }
   ],
   "source": [
    "# With timestamp humanization\n",
    "portiaApi.device(device).port(port).sensor(sensor).dimensions(last=True, params=params).humanize(datetime=True)"
   ]
  },
  {
   "cell_type": "markdown",
   "metadata": {
    "pycharm": {}
   },
   "source": [
    "### 3.2. Profile\n",
    "* Funções para obtenção do perfil de um dispositivo;"
   ]
  },
  {
   "cell_type": "markdown",
   "metadata": {
    "pycharm": {}
   },
   "source": [
    "#### Parâmetros Possíveis (Todos Opcionais)"
   ]
  },
  {
   "cell_type": "code",
   "execution_count": 40,
   "metadata": {
    "pycharm": {}
   },
   "outputs": [],
   "source": [
    "from portiapy.profile import ProfileStrategies\n",
    "\n",
    "strategy = ProfileStrategies.BY_ZERO_PORT\n",
    "\n",
    "interval = 30\n",
    "\n",
    "params = {\n",
    "    'precision': 'ms',\n",
    "    'sort': True\n",
    "}"
   ]
  },
  {
   "cell_type": "markdown",
   "metadata": {
    "pycharm": {}
   },
   "source": [
    "#### Perfil do Dispositivo"
   ]
  },
  {
   "cell_type": "code",
   "execution_count": 41,
   "metadata": {
    "pycharm": {}
   },
   "outputs": [
    {
     "name": "stdout",
     "output_type": "stream",
     "text": [
      "{\n",
      "   \"device\": \"2WT1742285T7\",\n",
      "   \"thing_code\": 28,\n",
      "   \"channel_id\": \"7ZX3758GG33T\",\n",
      "   \"channel_code\": 14,\n",
      "   \"ports\": [\n",
      "      {\n",
      "         \"port\": \"0\",\n",
      "         \"thing_code\": 28,\n",
      "         \"sensors\": [\n",
      "            {\n",
      "               \"sensor\": \"1\",\n",
      "               \"last_package\": {\n",
      "                  \"header_timestamp\": 1555077357080,\n",
      "                  \"dimension_value\": 176733,\n",
      "                  \"dimension_code\": \"15\",\n",
      "                  \"dimension_unity_code\": 6,\n",
      "                  \"dimension_thing_code\": 28\n",
      "               }\n",
      "            }\n",
      "         ]\n",
      "      },\n",
      "      {\n",
      "         \"port\": \"1\",\n",
      "         \"thing_code\": 15,\n",
      "         \"sensors\": [\n",
      "            {\n",
      "               \"sensor\": \"1\",\n",
      "               \"last_package\": {\n",
      "                  \"header_timestamp\": 1555077892670,\n",
      "                  \"dimension_value\": 24.6,\n",
      "                  \"dimension_code\": \"1\",\n",
      "                  \"dimension_unity_code\": 1,\n",
      "                  \"dimension_thing_code\": 15\n",
      "               }\n",
      "            }\n",
      "         ]\n",
      "      },\n",
      "      {\n",
      "         \"port\": \"4\",\n",
      "         \"thing_code\": 16,\n",
      "         \"sensors\": [\n",
      "            {\n",
      "               \"sensor\": \"1\",\n",
      "               \"last_package\": {\n",
      "                  \"header_timestamp\": 1555077892674,\n",
      "                  \"dimension_value\": 24.9,\n",
      "                  \"dimension_code\": \"1\",\n",
      "                  \"dimension_unity_code\": 1,\n",
      "                  \"dimension_thing_code\": 16\n",
      "               }\n",
      "            },\n",
      "            {\n",
      "               \"sensor\": \"2\",\n",
      "               \"last_package\": {\n",
      "                  \"header_timestamp\": 1555077892679,\n",
      "                  \"dimension_value\": 67,\n",
      "                  \"dimension_code\": \"3\",\n",
      "                  \"dimension_unity_code\": 2,\n",
      "                  \"dimension_thing_code\": 16\n",
      "               }\n",
      "            }\n",
      "         ]\n",
      "      },\n",
      "      {\n",
      "         \"port\": \"5\",\n",
      "         \"thing_code\": 16,\n",
      "         \"sensors\": [\n",
      "            {\n",
      "               \"sensor\": \"1\",\n",
      "               \"last_package\": {\n",
      "                  \"header_timestamp\": 1555077892683,\n",
      "                  \"dimension_value\": 27.1,\n",
      "                  \"dimension_code\": \"1\",\n",
      "                  \"dimension_unity_code\": 1,\n",
      "                  \"dimension_thing_code\": 16\n",
      "               }\n",
      "            },\n",
      "            {\n",
      "               \"sensor\": \"2\",\n",
      "               \"last_package\": {\n",
      "                  \"header_timestamp\": 1555077892686,\n",
      "                  \"dimension_value\": 57,\n",
      "                  \"dimension_code\": \"3\",\n",
      "                  \"dimension_unity_code\": 2,\n",
      "                  \"dimension_thing_code\": 16\n",
      "               }\n",
      "            }\n",
      "         ]\n",
      "      },\n",
      "      {\n",
      "         \"port\": \"8\",\n",
      "         \"thing_code\": 22,\n",
      "         \"sensors\": [\n",
      "            {\n",
      "               \"sensor\": \"1\",\n",
      "               \"last_package\": {\n",
      "                  \"header_timestamp\": 1555077892690,\n",
      "                  \"dimension_value\": 5129,\n",
      "                  \"dimension_code\": \"8\",\n",
      "                  \"dimension_unity_code\": 7,\n",
      "                  \"dimension_thing_code\": 22\n",
      "               }\n",
      "            },\n",
      "            {\n",
      "               \"sensor\": \"2\",\n",
      "               \"last_package\": {\n",
      "                  \"header_timestamp\": 1555077892693,\n",
      "                  \"dimension_value\": 24733,\n",
      "                  \"dimension_code\": \"7\",\n",
      "                  \"dimension_unity_code\": 4,\n",
      "                  \"dimension_thing_code\": 22\n",
      "               }\n",
      "            }\n",
      "         ]\n",
      "      },\n",
      "      {\n",
      "         \"port\": \"9\",\n",
      "         \"thing_code\": 22,\n",
      "         \"sensors\": [\n",
      "            {\n",
      "               \"sensor\": \"1\",\n",
      "               \"last_package\": {\n",
      "                  \"header_timestamp\": 1555077892696,\n",
      "                  \"dimension_value\": 4780,\n",
      "                  \"dimension_code\": \"8\",\n",
      "                  \"dimension_unity_code\": 7,\n",
      "                  \"dimension_thing_code\": 22\n",
      "               }\n",
      "            },\n",
      "            {\n",
      "               \"sensor\": \"2\",\n",
      "               \"last_package\": {\n",
      "                  \"header_timestamp\": 1555077892700,\n",
      "                  \"dimension_value\": -16422,\n",
      "                  \"dimension_code\": \"7\",\n",
      "                  \"dimension_unity_code\": 4,\n",
      "                  \"dimension_thing_code\": 22\n",
      "               }\n",
      "            }\n",
      "         ]\n",
      "      }\n",
      "   ]\n",
      "}\n"
     ]
    }
   ],
   "source": [
    "# /profile/device/:device/:strategy/:interval\n",
    "temp = portiaApi.device(device).profile(strategy=strategy, interval=interval, params=params)\n",
    "print( json.dumps(temp, indent=3) )"
   ]
  },
  {
   "cell_type": "code",
   "execution_count": null,
   "metadata": {},
   "outputs": [],
   "source": [
    "# Com humanização\n",
    "temp = portiaApi.device(device).profile(strategy=strategy, interval=interval, params=params).humanize()\n",
    "print( json.dumps(temp, indent=3) )"
   ]
  },
  {
   "cell_type": "code",
   "execution_count": null,
   "metadata": {},
   "outputs": [],
   "source": [
    "# Com humanização de timestamp\n",
    "temp = portiaApi.device(device).profile(strategy=strategy, interval=interval, params=params).humanize(datetime=True)\n",
    "print( json.dumps(temp, indent=3) )"
   ]
  },
  {
   "cell_type": "markdown",
   "metadata": {
    "pycharm": {}
   },
   "source": [
    "#### Perfil do Dispositivo por Porta"
   ]
  },
  {
   "cell_type": "code",
   "execution_count": 42,
   "metadata": {
    "pycharm": {}
   },
   "outputs": [
    {
     "name": "stdout",
     "output_type": "stream",
     "text": [
      "{\n",
      "   \"device\": \"2WT1742285T7\",\n",
      "   \"thing_code\": 28,\n",
      "   \"channel_id\": \"7ZX3758GG33T\",\n",
      "   \"channel_code\": 14,\n",
      "   \"ports\": [\n",
      "      {\n",
      "         \"port\": \"8\",\n",
      "         \"thing_code\": 22,\n",
      "         \"sensors\": [\n",
      "            {\n",
      "               \"sensor\": \"1\",\n",
      "               \"last_package\": {\n",
      "                  \"header_timestamp\": 1555077892690,\n",
      "                  \"dimension_value\": 5129,\n",
      "                  \"dimension_code\": \"8\",\n",
      "                  \"dimension_unity_code\": 7,\n",
      "                  \"dimension_thing_code\": 22\n",
      "               }\n",
      "            },\n",
      "            {\n",
      "               \"sensor\": \"2\",\n",
      "               \"last_package\": {\n",
      "                  \"header_timestamp\": 1555077892693,\n",
      "                  \"dimension_value\": 24733,\n",
      "                  \"dimension_code\": \"7\",\n",
      "                  \"dimension_unity_code\": 4,\n",
      "                  \"dimension_thing_code\": 22\n",
      "               }\n",
      "            }\n",
      "         ]\n",
      "      }\n",
      "   ]\n",
      "}\n"
     ]
    }
   ],
   "source": [
    "# /profile/device/:device/port/:port/:strategy/:interval\n",
    "temp = portiaApi.device(device).port(port).profile(strategy=strategy, interval=interval, params=params)\n",
    "print( json.dumps(temp, indent=3) )"
   ]
  },
  {
   "cell_type": "code",
   "execution_count": null,
   "metadata": {},
   "outputs": [],
   "source": [
    "# Com humanização\n",
    "temp = portiaApi.device(device).port(port).profile(strategy=strategy, interval=interval, params=params).humanize()\n",
    "print( json.dumps(temp, indent=3) )"
   ]
  },
  {
   "cell_type": "code",
   "execution_count": null,
   "metadata": {},
   "outputs": [],
   "source": [
    "# Com humanização de timestamp\n",
    "temp = portiaApi.device(device).port(port).profile(strategy=strategy, interval=interval, params=params).humanize(datetime=True)\n",
    "print( json.dumps(temp, indent=3) )"
   ]
  },
  {
   "cell_type": "markdown",
   "metadata": {
    "pycharm": {}
   },
   "source": [
    "#### Perfil do Dispositivo por Porta e Sensor"
   ]
  },
  {
   "cell_type": "code",
   "execution_count": 43,
   "metadata": {
    "pycharm": {}
   },
   "outputs": [
    {
     "name": "stdout",
     "output_type": "stream",
     "text": [
      "{\n",
      "   \"device\": \"2WT1742285T7\",\n",
      "   \"thing_code\": 28,\n",
      "   \"channel_id\": \"7ZX3758GG33T\",\n",
      "   \"channel_code\": 14,\n",
      "   \"ports\": [\n",
      "      {\n",
      "         \"port\": \"8\",\n",
      "         \"thing_code\": 22,\n",
      "         \"sensors\": [\n",
      "            {\n",
      "               \"sensor\": \"1\",\n",
      "               \"last_package\": {\n",
      "                  \"header_timestamp\": 1555077892690,\n",
      "                  \"dimension_value\": 5129,\n",
      "                  \"dimension_code\": \"8\",\n",
      "                  \"dimension_unity_code\": 7,\n",
      "                  \"dimension_thing_code\": 22\n",
      "               }\n",
      "            }\n",
      "         ]\n",
      "      }\n",
      "   ]\n",
      "}\n"
     ]
    }
   ],
   "source": [
    "# /profile/device/:device/port/:port/sensor/:sensor/:strategy/:interval\n",
    "temp = portiaApi.device(device).port(port).sensor(sensor).profile(strategy=strategy, interval=interval, params=params)\n",
    "print( json.dumps(temp, indent=3) )"
   ]
  },
  {
   "cell_type": "code",
   "execution_count": null,
   "metadata": {},
   "outputs": [],
   "source": [
    "# Com humanização\n",
    "temp = portiaApi.device(device).port(port).sensor(sensor).profile(strategy=strategy, interval=interval, params=params).humanize()\n",
    "print( json.dumps(temp, indent=3) )"
   ]
  },
  {
   "cell_type": "code",
   "execution_count": null,
   "metadata": {},
   "outputs": [],
   "source": [
    "# Com humanização de timestamp\n",
    "temp = portiaApi.device(device).port(port).sensor(sensor).profile(strategy=strategy, interval=interval, params=params).humanize(datetime=True)\n",
    "print( json.dumps(temp, indent=3) )"
   ]
  },
  {
   "cell_type": "markdown",
   "metadata": {
    "pycharm": {}
   },
   "source": [
    "### 3.3. Select\n",
    "* Funções para obtenção dos últimos pacotes de um dispositivo;"
   ]
  },
  {
   "cell_type": "markdown",
   "metadata": {
    "pycharm": {}
   },
   "source": [
    "#### Parâmetros Possíveis (Todos Opcionais)"
   ]
  },
  {
   "cell_type": "code",
   "execution_count": 44,
   "metadata": {
    "pycharm": {}
   },
   "outputs": [],
   "source": [
    "params = {\n",
    "    'from': None,\n",
    "    'to': None,\n",
    "    'order': None,\n",
    "    'precision': 'ms',\n",
    "    'limit': None\n",
    "}"
   ]
  },
  {
   "cell_type": "markdown",
   "metadata": {
    "pycharm": {}
   },
   "source": [
    "#### Pacotes por Porta e Sensor"
   ]
  },
  {
   "cell_type": "code",
   "execution_count": 45,
   "metadata": {
    "pycharm": {}
   },
   "outputs": [
    {
     "data": {
      "text/plain": [
       "<matplotlib.axes._subplots.AxesSubplot at 0x7fc9000bef98>"
      ]
     },
     "execution_count": 45,
     "metadata": {},
     "output_type": "execute_result"
    },
    {
     "data": {
      "image/png": "[encoded data removed]",
      "text/plain": [
       "<Figure size 432x288 with 1 Axes>"
      ]
     },
     "metadata": {
      "needs_background": "light"
     },
     "output_type": "display_data"
    }
   ],
   "source": [
    "%matplotlib inline\n",
    "\n",
    "df = portiaApi.device(device).port(port).sensor(sensor).select(params=params)\n",
    "df.plot(x='header_timestamp', y='dimension_value')"
   ]
  },
  {
   "cell_type": "code",
   "execution_count": 46,
   "metadata": {
    "pycharm": {}
   },
   "outputs": [
    {
     "data": {
      "text/html": [
       "<div>\n",
       "<style scoped>\n",
       "    .dataframe tbody tr th:only-of-type {\n",
       "        vertical-align: middle;\n",
       "    }\n",
       "\n",
       "    .dataframe tbody tr th {\n",
       "        vertical-align: top;\n",
       "    }\n",
       "\n",
       "    .dataframe thead th {\n",
       "        text-align: right;\n",
       "    }\n",
       "</style>\n",
       "<table border=\"1\" class=\"dataframe\">\n",
       "  <thead>\n",
       "    <tr style=\"text-align: right;\">\n",
       "      <th></th>\n",
       "      <th>header_timestamp</th>\n",
       "      <th>dimension_value</th>\n",
       "      <th>dimension_code</th>\n",
       "      <th>dimension_unity_code</th>\n",
       "      <th>dimension_thing_code</th>\n",
       "      <th>Unnamed: 5</th>\n",
       "    </tr>\n",
       "  </thead>\n",
       "  <tbody>\n",
       "    <tr>\n",
       "      <th>0</th>\n",
       "      <td>1555077892690</td>\n",
       "      <td>5129</td>\n",
       "      <td>8</td>\n",
       "      <td>7</td>\n",
       "      <td>22</td>\n",
       "      <td>NaN</td>\n",
       "    </tr>\n",
       "  </tbody>\n",
       "</table>\n",
       "</div>"
      ],
      "text/plain": [
       "   header_timestamp  dimension_value  dimension_code  dimension_unity_code  \\\n",
       "0     1555077892690             5129               8                     7   \n",
       "\n",
       "   dimension_thing_code  Unnamed: 5  \n",
       "0                    22         NaN  "
      ]
     },
     "execution_count": 46,
     "metadata": {},
     "output_type": "execute_result"
    }
   ],
   "source": [
    "portiaApi.device(device).port(port).sensor(sensor).select(last=True, params=params)"
   ]
  },
  {
   "cell_type": "code",
   "execution_count": 47,
   "metadata": {
    "pycharm": {}
   },
   "outputs": [
    {
     "data": {
      "text/html": [
       "<div>\n",
       "<style scoped>\n",
       "    .dataframe tbody tr th:only-of-type {\n",
       "        vertical-align: middle;\n",
       "    }\n",
       "\n",
       "    .dataframe tbody tr th {\n",
       "        vertical-align: top;\n",
       "    }\n",
       "\n",
       "    .dataframe thead th {\n",
       "        text-align: right;\n",
       "    }\n",
       "</style>\n",
       "<table border=\"1\" class=\"dataframe\">\n",
       "  <thead>\n",
       "    <tr style=\"text-align: right;\">\n",
       "      <th></th>\n",
       "      <th>header_timestamp</th>\n",
       "      <th>dimension_value</th>\n",
       "      <th>dimension</th>\n",
       "      <th>dimension_unity</th>\n",
       "      <th>dimension_thing</th>\n",
       "    </tr>\n",
       "  </thead>\n",
       "  <tbody>\n",
       "    <tr>\n",
       "      <th>0</th>\n",
       "      <td>1555077892690</td>\n",
       "      <td>5129</td>\n",
       "      <td>Fluxo Pontual</td>\n",
       "      <td>L/min</td>\n",
       "      <td>SondaSmaaiH2O</td>\n",
       "    </tr>\n",
       "  </tbody>\n",
       "</table>\n",
       "</div>"
      ],
      "text/plain": [
       "   header_timestamp  dimension_value      dimension dimension_unity  \\\n",
       "0     1555077892690             5129  Fluxo Pontual           L/min   \n",
       "\n",
       "  dimension_thing  \n",
       "0   SondaSmaaiH2O  "
      ]
     },
     "execution_count": 47,
     "metadata": {},
     "output_type": "execute_result"
    }
   ],
   "source": [
    "# Com humanização\n",
    "portiaApi.device(device).port(port).sensor(sensor).dimensions(last=True, params=params).humanize()"
   ]
  },
  {
   "cell_type": "code",
   "execution_count": 48,
   "metadata": {
    "pycharm": {}
   },
   "outputs": [
    {
     "data": {
      "text/html": [
       "<div>\n",
       "<style scoped>\n",
       "    .dataframe tbody tr th:only-of-type {\n",
       "        vertical-align: middle;\n",
       "    }\n",
       "\n",
       "    .dataframe tbody tr th {\n",
       "        vertical-align: top;\n",
       "    }\n",
       "\n",
       "    .dataframe thead th {\n",
       "        text-align: right;\n",
       "    }\n",
       "</style>\n",
       "<table border=\"1\" class=\"dataframe\">\n",
       "  <thead>\n",
       "    <tr style=\"text-align: right;\">\n",
       "      <th></th>\n",
       "      <th>header_datetime</th>\n",
       "      <th>dimension_value</th>\n",
       "      <th>dimension</th>\n",
       "      <th>dimension_unity</th>\n",
       "      <th>dimension_thing</th>\n",
       "    </tr>\n",
       "  </thead>\n",
       "  <tbody>\n",
       "    <tr>\n",
       "      <th>0</th>\n",
       "      <td>a month ago</td>\n",
       "      <td>5129</td>\n",
       "      <td>Fluxo Pontual</td>\n",
       "      <td>L/min</td>\n",
       "      <td>SondaSmaaiH2O</td>\n",
       "    </tr>\n",
       "  </tbody>\n",
       "</table>\n",
       "</div>"
      ],
      "text/plain": [
       "  header_datetime  dimension_value      dimension dimension_unity  \\\n",
       "0     a month ago             5129  Fluxo Pontual           L/min   \n",
       "\n",
       "  dimension_thing  \n",
       "0   SondaSmaaiH2O  "
      ]
     },
     "execution_count": 48,
     "metadata": {},
     "output_type": "execute_result"
    }
   ],
   "source": [
    "# Com humanização de timestamp\n",
    "portiaApi.device(device).port(port).sensor(sensor).dimensions(last=True, params=params).humanize(datetime=True)"
   ]
  },
  {
   "cell_type": "markdown",
   "metadata": {
    "pycharm": {}
   },
   "source": [
    "#### Pacotes por Porta e Código de Dimensão"
   ]
  },
  {
   "cell_type": "code",
   "execution_count": 49,
   "metadata": {
    "pycharm": {}
   },
   "outputs": [
    {
     "data": {
      "text/plain": [
       "<matplotlib.axes._subplots.AxesSubplot at 0x7fc8f90c9208>"
      ]
     },
     "execution_count": 49,
     "metadata": {},
     "output_type": "execute_result"
    },
    {
     "data": {
      "image/png": "[encoded data removed]",
      "text/plain": [
       "<Figure size 432x288 with 1 Axes>"
      ]
     },
     "metadata": {
      "needs_background": "light"
     },
     "output_type": "display_data"
    }
   ],
   "source": [
    "%matplotlib inline\n",
    "\n",
    "df = portiaApi.device(device).port(port).dimension(dimension).select(params=params)\n",
    "df.plot(x='header_timestamp', y='dimension_value')"
   ]
  },
  {
   "cell_type": "code",
   "execution_count": 50,
   "metadata": {
    "pycharm": {}
   },
   "outputs": [
    {
     "data": {
      "text/html": [
       "<div>\n",
       "<style scoped>\n",
       "    .dataframe tbody tr th:only-of-type {\n",
       "        vertical-align: middle;\n",
       "    }\n",
       "\n",
       "    .dataframe tbody tr th {\n",
       "        vertical-align: top;\n",
       "    }\n",
       "\n",
       "    .dataframe thead th {\n",
       "        text-align: right;\n",
       "    }\n",
       "</style>\n",
       "<table border=\"1\" class=\"dataframe\">\n",
       "  <thead>\n",
       "    <tr style=\"text-align: right;\">\n",
       "      <th></th>\n",
       "      <th>header_timestamp</th>\n",
       "      <th>dimension_value</th>\n",
       "      <th>dimension_code</th>\n",
       "      <th>dimension_unity_code</th>\n",
       "      <th>dimension_thing_code</th>\n",
       "      <th>Unnamed: 5</th>\n",
       "    </tr>\n",
       "  </thead>\n",
       "  <tbody>\n",
       "    <tr>\n",
       "      <th>0</th>\n",
       "      <td>1555040295116</td>\n",
       "      <td>88</td>\n",
       "      <td>8</td>\n",
       "      <td>7</td>\n",
       "      <td>22</td>\n",
       "      <td>NaN</td>\n",
       "    </tr>\n",
       "  </tbody>\n",
       "</table>\n",
       "</div>"
      ],
      "text/plain": [
       "   header_timestamp  dimension_value  dimension_code  dimension_unity_code  \\\n",
       "0     1555040295116               88               8                     7   \n",
       "\n",
       "   dimension_thing_code  Unnamed: 5  \n",
       "0                    22         NaN  "
      ]
     },
     "execution_count": 50,
     "metadata": {},
     "output_type": "execute_result"
    }
   ],
   "source": [
    "portiaApi.device(device).port(port).dimension(dimension).select(last=True, params=params)"
   ]
  },
  {
   "cell_type": "code",
   "execution_count": 51,
   "metadata": {
    "pycharm": {}
   },
   "outputs": [
    {
     "data": {
      "text/html": [
       "<div>\n",
       "<style scoped>\n",
       "    .dataframe tbody tr th:only-of-type {\n",
       "        vertical-align: middle;\n",
       "    }\n",
       "\n",
       "    .dataframe tbody tr th {\n",
       "        vertical-align: top;\n",
       "    }\n",
       "\n",
       "    .dataframe thead th {\n",
       "        text-align: right;\n",
       "    }\n",
       "</style>\n",
       "<table border=\"1\" class=\"dataframe\">\n",
       "  <thead>\n",
       "    <tr style=\"text-align: right;\">\n",
       "      <th></th>\n",
       "      <th>header_timestamp</th>\n",
       "      <th>dimension_value</th>\n",
       "      <th>dimension</th>\n",
       "      <th>dimension_unity</th>\n",
       "      <th>dimension_thing</th>\n",
       "      <th>Unnamed: 5</th>\n",
       "    </tr>\n",
       "  </thead>\n",
       "  <tbody>\n",
       "    <tr>\n",
       "      <th>0</th>\n",
       "      <td>1555040295116</td>\n",
       "      <td>88</td>\n",
       "      <td>Fluxo Pontual</td>\n",
       "      <td>L/min</td>\n",
       "      <td>SondaSmaaiH2O</td>\n",
       "      <td>NaN</td>\n",
       "    </tr>\n",
       "  </tbody>\n",
       "</table>\n",
       "</div>"
      ],
      "text/plain": [
       "   header_timestamp  dimension_value      dimension dimension_unity  \\\n",
       "0     1555040295116               88  Fluxo Pontual           L/min   \n",
       "\n",
       "  dimension_thing  Unnamed: 5  \n",
       "0   SondaSmaaiH2O         NaN  "
      ]
     },
     "execution_count": 51,
     "metadata": {},
     "output_type": "execute_result"
    }
   ],
   "source": [
    "# Com humanização\n",
    "portiaApi.device(device).port(port).dimension(dimension).select(last=True, params=params).humanize()"
   ]
  },
  {
   "cell_type": "code",
   "execution_count": 52,
   "metadata": {
    "pycharm": {}
   },
   "outputs": [
    {
     "data": {
      "text/html": [
       "<div>\n",
       "<style scoped>\n",
       "    .dataframe tbody tr th:only-of-type {\n",
       "        vertical-align: middle;\n",
       "    }\n",
       "\n",
       "    .dataframe tbody tr th {\n",
       "        vertical-align: top;\n",
       "    }\n",
       "\n",
       "    .dataframe thead th {\n",
       "        text-align: right;\n",
       "    }\n",
       "</style>\n",
       "<table border=\"1\" class=\"dataframe\">\n",
       "  <thead>\n",
       "    <tr style=\"text-align: right;\">\n",
       "      <th></th>\n",
       "      <th>header_datetime</th>\n",
       "      <th>dimension_value</th>\n",
       "      <th>dimension</th>\n",
       "      <th>dimension_unity</th>\n",
       "      <th>dimension_thing</th>\n",
       "      <th>Unnamed: 5</th>\n",
       "    </tr>\n",
       "  </thead>\n",
       "  <tbody>\n",
       "    <tr>\n",
       "      <th>0</th>\n",
       "      <td>a month ago</td>\n",
       "      <td>88</td>\n",
       "      <td>Fluxo Pontual</td>\n",
       "      <td>L/min</td>\n",
       "      <td>SondaSmaaiH2O</td>\n",
       "      <td>NaN</td>\n",
       "    </tr>\n",
       "  </tbody>\n",
       "</table>\n",
       "</div>"
      ],
      "text/plain": [
       "  header_datetime  dimension_value      dimension dimension_unity  \\\n",
       "0     a month ago               88  Fluxo Pontual           L/min   \n",
       "\n",
       "  dimension_thing  Unnamed: 5  \n",
       "0   SondaSmaaiH2O         NaN  "
      ]
     },
     "execution_count": 52,
     "metadata": {},
     "output_type": "execute_result"
    }
   ],
   "source": [
    "# Com humanização de timestamp\n",
    "portiaApi.device(device).port(port).dimension(dimension).select(last=True, params=params).humanize(datetime=True)"
   ]
  },
  {
   "cell_type": "markdown",
   "metadata": {
    "pycharm": {}
   },
   "source": [
    "#### Pacotes por Porta, Sensor e Código de Dimensão"
   ]
  },
  {
   "cell_type": "code",
   "execution_count": 53,
   "metadata": {
    "pycharm": {}
   },
   "outputs": [
    {
     "data": {
      "text/plain": [
       "<matplotlib.axes._subplots.AxesSubplot at 0x7fc8f90a0630>"
      ]
     },
     "execution_count": 53,
     "metadata": {},
     "output_type": "execute_result"
    },
    {
     "data": {
      "image/png": "[encoded data removed]",
      "text/plain": [
       "<Figure size 432x288 with 1 Axes>"
      ]
     },
     "metadata": {
      "needs_background": "light"
     },
     "output_type": "display_data"
    }
   ],
   "source": [
    "%matplotlib inline\n",
    "\n",
    "df = portiaApi.device(device).port(port).sensor(sensor).dimension(dimension).select(params=params)\n",
    "df.plot(x='header_timestamp', y='dimension_value')"
   ]
  },
  {
   "cell_type": "code",
   "execution_count": 54,
   "metadata": {
    "pycharm": {}
   },
   "outputs": [
    {
     "data": {
      "text/html": [
       "<div>\n",
       "<style scoped>\n",
       "    .dataframe tbody tr th:only-of-type {\n",
       "        vertical-align: middle;\n",
       "    }\n",
       "\n",
       "    .dataframe tbody tr th {\n",
       "        vertical-align: top;\n",
       "    }\n",
       "\n",
       "    .dataframe thead th {\n",
       "        text-align: right;\n",
       "    }\n",
       "</style>\n",
       "<table border=\"1\" class=\"dataframe\">\n",
       "  <thead>\n",
       "    <tr style=\"text-align: right;\">\n",
       "      <th></th>\n",
       "      <th>header_timestamp</th>\n",
       "      <th>dimension_value</th>\n",
       "      <th>dimension_code</th>\n",
       "      <th>dimension_unity_code</th>\n",
       "      <th>dimension_thing_code</th>\n",
       "      <th>Unnamed: 5</th>\n",
       "    </tr>\n",
       "  </thead>\n",
       "  <tbody>\n",
       "    <tr>\n",
       "      <th>0</th>\n",
       "      <td>1555040295116</td>\n",
       "      <td>88</td>\n",
       "      <td>8</td>\n",
       "      <td>7</td>\n",
       "      <td>22</td>\n",
       "      <td>NaN</td>\n",
       "    </tr>\n",
       "  </tbody>\n",
       "</table>\n",
       "</div>"
      ],
      "text/plain": [
       "   header_timestamp  dimension_value  dimension_code  dimension_unity_code  \\\n",
       "0     1555040295116               88               8                     7   \n",
       "\n",
       "   dimension_thing_code  Unnamed: 5  \n",
       "0                    22         NaN  "
      ]
     },
     "execution_count": 54,
     "metadata": {},
     "output_type": "execute_result"
    }
   ],
   "source": [
    "portiaApi.device(device).port(port).sensor(sensor).dimension(dimension).select(last=True, params=params)"
   ]
  },
  {
   "cell_type": "code",
   "execution_count": 55,
   "metadata": {
    "pycharm": {}
   },
   "outputs": [
    {
     "data": {
      "text/html": [
       "<div>\n",
       "<style scoped>\n",
       "    .dataframe tbody tr th:only-of-type {\n",
       "        vertical-align: middle;\n",
       "    }\n",
       "\n",
       "    .dataframe tbody tr th {\n",
       "        vertical-align: top;\n",
       "    }\n",
       "\n",
       "    .dataframe thead th {\n",
       "        text-align: right;\n",
       "    }\n",
       "</style>\n",
       "<table border=\"1\" class=\"dataframe\">\n",
       "  <thead>\n",
       "    <tr style=\"text-align: right;\">\n",
       "      <th></th>\n",
       "      <th>header_timestamp</th>\n",
       "      <th>dimension_value</th>\n",
       "      <th>dimension</th>\n",
       "      <th>dimension_unity</th>\n",
       "      <th>dimension_thing</th>\n",
       "      <th>Unnamed: 5</th>\n",
       "    </tr>\n",
       "  </thead>\n",
       "  <tbody>\n",
       "    <tr>\n",
       "      <th>0</th>\n",
       "      <td>1555040295116</td>\n",
       "      <td>88</td>\n",
       "      <td>Fluxo Pontual</td>\n",
       "      <td>L/min</td>\n",
       "      <td>SondaSmaaiH2O</td>\n",
       "      <td>NaN</td>\n",
       "    </tr>\n",
       "  </tbody>\n",
       "</table>\n",
       "</div>"
      ],
      "text/plain": [
       "   header_timestamp  dimension_value      dimension dimension_unity  \\\n",
       "0     1555040295116               88  Fluxo Pontual           L/min   \n",
       "\n",
       "  dimension_thing  Unnamed: 5  \n",
       "0   SondaSmaaiH2O         NaN  "
      ]
     },
     "execution_count": 55,
     "metadata": {},
     "output_type": "execute_result"
    }
   ],
   "source": [
    "# Com humanização\n",
    "portiaApi.device(device).port(port).sensor(sensor).dimension(dimension).select(last=True, params=params).humanize()"
   ]
  },
  {
   "cell_type": "code",
   "execution_count": 56,
   "metadata": {
    "pycharm": {}
   },
   "outputs": [
    {
     "data": {
      "text/html": [
       "<div>\n",
       "<style scoped>\n",
       "    .dataframe tbody tr th:only-of-type {\n",
       "        vertical-align: middle;\n",
       "    }\n",
       "\n",
       "    .dataframe tbody tr th {\n",
       "        vertical-align: top;\n",
       "    }\n",
       "\n",
       "    .dataframe thead th {\n",
       "        text-align: right;\n",
       "    }\n",
       "</style>\n",
       "<table border=\"1\" class=\"dataframe\">\n",
       "  <thead>\n",
       "    <tr style=\"text-align: right;\">\n",
       "      <th></th>\n",
       "      <th>header_datetime</th>\n",
       "      <th>dimension_value</th>\n",
       "      <th>dimension</th>\n",
       "      <th>dimension_unity</th>\n",
       "      <th>dimension_thing</th>\n",
       "      <th>Unnamed: 5</th>\n",
       "    </tr>\n",
       "  </thead>\n",
       "  <tbody>\n",
       "    <tr>\n",
       "      <th>0</th>\n",
       "      <td>a month ago</td>\n",
       "      <td>88</td>\n",
       "      <td>Fluxo Pontual</td>\n",
       "      <td>L/min</td>\n",
       "      <td>SondaSmaaiH2O</td>\n",
       "      <td>NaN</td>\n",
       "    </tr>\n",
       "  </tbody>\n",
       "</table>\n",
       "</div>"
      ],
      "text/plain": [
       "  header_datetime  dimension_value      dimension dimension_unity  \\\n",
       "0     a month ago               88  Fluxo Pontual           L/min   \n",
       "\n",
       "  dimension_thing  Unnamed: 5  \n",
       "0   SondaSmaaiH2O         NaN  "
      ]
     },
     "execution_count": 56,
     "metadata": {},
     "output_type": "execute_result"
    }
   ],
   "source": [
    "# Com humanização de timestamp\n",
    "portiaApi.device(device).port(port).sensor(sensor).dimension(dimension).select(last=True, params=params).humanize(datetime=True)"
   ]
  },
  {
   "cell_type": "markdown",
   "metadata": {
    "pycharm": {}
   },
   "source": [
    "### 3.4. Summary\n",
    "* Funções para obtenção de sumários de um dispositivo;"
   ]
  },
  {
   "cell_type": "markdown",
   "metadata": {
    "pycharm": {}
   },
   "source": [
    "#### Parâmetros Possíveis (Todos Opcionais)"
   ]
  },
  {
   "cell_type": "code",
   "execution_count": 57,
   "metadata": {
    "pycharm": {}
   },
   "outputs": [],
   "source": [
    "from portiapy.summary import SummaryStrategies\n",
    "\n",
    "strategy = SummaryStrategies.PER_HOUR\n",
    "\n",
    "interval = 1\n",
    "\n",
    "params = {\n",
    "    'from': None,\n",
    "    'to': None,\n",
    "    'order': None,\n",
    "    'precision': 'ms',\n",
    "    'min': True,\n",
    "    'max': True,\n",
    "    'sum': True,\n",
    "    'avg': True,\n",
    "    'median': False,\n",
    "    'mode': False,\n",
    "    'stddev': False,\n",
    "    'spread': False\n",
    "}"
   ]
  },
  {
   "cell_type": "markdown",
   "metadata": {
    "pycharm": {}
   },
   "source": [
    "#### Sumário por Porta e Sensor"
   ]
  },
  {
   "cell_type": "code",
   "execution_count": 58,
   "metadata": {
    "pycharm": {}
   },
   "outputs": [
    {
     "data": {
      "image/png": "[encoded data removed]",
      "text/plain": [
       "<Figure size 432x288 with 1 Axes>"
      ]
     },
     "metadata": {
      "needs_background": "light"
     },
     "output_type": "display_data"
    }
   ],
   "source": [
    "%matplotlib inline\n",
    "\n",
    "df = portiaApi.device(device).port(port).sensor(sensor).summary(strategy=strategy, interval=interval, params=params)\n",
    "ax = df.plot(x='header_timestamp', y='min')\n",
    "ax = df.plot(ax=ax, x='header_timestamp', y='max')"
   ]
  },
  {
   "cell_type": "markdown",
   "metadata": {
    "pycharm": {}
   },
   "source": [
    "#### Sumário por Porta, Sensor e Código de Dimensão"
   ]
  },
  {
   "cell_type": "code",
   "execution_count": 59,
   "metadata": {
    "pycharm": {}
   },
   "outputs": [
    {
     "data": {
      "image/png": "[encoded data removed]",
      "text/plain": [
       "<Figure size 432x288 with 1 Axes>"
      ]
     },
     "metadata": {
      "needs_background": "light"
     },
     "output_type": "display_data"
    }
   ],
   "source": [
    "%matplotlib inline\n",
    "\n",
    "df = portiaApi.device(device).port(port).sensor(sensor).dimension(dimension).summary(strategy=strategy, interval=interval, params=params)\n",
    "ax = df.plot(x='header_timestamp', y='min')\n",
    "ax = df.plot(ax=ax, x='header_timestamp', y='max')"
   ]
  },
  {
   "cell_type": "markdown",
   "metadata": {
    "pycharm": {}
   },
   "source": [
    "## 4. Implicação do Uso de Especificações nas Consultas\n",
    "* Por padrão toda consulta utiliza a **especificação** padrão (_default_);\n",
    "* É possível que nos exemplos apresentados dois gráficos da mesma série temporal possam ter sido exibidos de maneira diferente dado a presença do código da dimensão na consulta;\n",
    "* Isto ocorre devido a ação da **especificação** que determinou por qual pipeline (**axioma** + **fases**) a série temporal será tratada e quais valores serão utilizados neste tratamento;"
   ]
  },
  {
   "cell_type": "code",
   "execution_count": 60,
   "metadata": {
    "pycharm": {}
   },
   "outputs": [
    {
     "data": {
      "image/png": "[encoded data removed]",
      "text/plain": [
       "<Figure size 432x288 with 1 Axes>"
      ]
     },
     "metadata": {
      "needs_background": "light"
     },
     "output_type": "display_data"
    }
   ],
   "source": [
    "# Exemplo com a especificação default\n",
    "%matplotlib inline\n",
    "\n",
    "df = portiaApi.device(device).port(port).sensor(sensor).dimension(dimension).summary(strategy=strategy, interval=interval, params=params)\n",
    "ax = df.plot(x='header_timestamp', y='min')\n",
    "ax = df.plot(ax=ax, x='header_timestamp', y='max')"
   ]
  },
  {
   "cell_type": "code",
   "execution_count": 61,
   "metadata": {
    "pycharm": {}
   },
   "outputs": [
    {
     "data": {
      "image/png": "[encoded data removed]",
      "text/plain": [
       "<Figure size 432x288 with 1 Axes>"
      ]
     },
     "metadata": {
      "needs_background": "light"
     },
     "output_type": "display_data"
    }
   ],
   "source": [
    "# Exemplo com a especificação raw\n",
    "params['specification'] = 'raw'\n",
    "%matplotlib inline\n",
    "\n",
    "df = portiaApi.device(device).port(port).sensor(sensor).dimension(dimension).summary(strategy=strategy, interval=interval, params=params)\n",
    "ax = df.plot(x='header_timestamp', y='min')\n",
    "ax = df.plot(ax=ax, x='header_timestamp', y='max')"
   ]
  }
 ],
 "metadata": {
  "kernelspec": {
   "display_name": "Python 3",
   "language": "python",
   "name": "python3"
  },
  "language_info": {
   "codemirror_mode": {
    "name": "ipython",
    "version": 3
   },
   "file_extension": ".py",
   "mimetype": "text/x-python",
   "name": "python",
   "nbconvert_exporter": "python",
   "pygments_lexer": "ipython3",
   "version": "3.6.7"
  }
 },
 "nbformat": 4,
 "nbformat_minor": 2
}
