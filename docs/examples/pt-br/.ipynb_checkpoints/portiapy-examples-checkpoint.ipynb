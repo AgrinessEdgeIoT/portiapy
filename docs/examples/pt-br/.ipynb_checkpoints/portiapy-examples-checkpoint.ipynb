{
 "cells": [
  {
   "cell_type": "markdown",
   "metadata": {},
   "source": [
    "# PortiaPy\n",
    "\n",
    "Um pacote para trabalhar com a API Portia da Agriness Edge. Possui ferramentas para trabalhar com os dois principais grupos de _endpoints_ que a API oferece:\n",
    "\n",
    "### Estruturas do Pipeline\n",
    "- Fases (Phases);\n",
    "- Axiomas (Axioms);\n",
    "- Especificações (Specifications);\n",
    "\n",
    "### Consultas\n",
    "- Descrição (Describe);\n",
    "- Perfil (Profile);\n",
    "- Seleção (Select);\n",
    "- Sumário (Summary);"
   ]
  },
  {
   "cell_type": "code",
   "execution_count": null,
   "metadata": {},
   "outputs": [],
   "source": [
    "import portiapy\n",
    "import json\n",
    "\n",
    "portiapy.about()"
   ]
  },
  {
   "cell_type": "markdown",
   "metadata": {},
   "source": [
    "# Trabalhando com o PortiaPy"
   ]
  },
  {
   "cell_type": "markdown",
   "metadata": {},
   "source": [
    "## 1. PortiaApi\n",
    "Classe para interação com a API, necessita de uma série de configurações para seu funcionamento passadas no construtor da classe:"
   ]
  },
  {
   "cell_type": "code",
   "execution_count": null,
   "metadata": {},
   "outputs": [],
   "source": [
    "# Exemplo\n",
    "portiapy.portiaConfigExample"
   ]
  },
  {
   "cell_type": "markdown",
   "metadata": {},
   "source": [
    "#### Instanciando um objeto do tipo PortiaApi"
   ]
  },
  {
   "cell_type": "code",
   "execution_count": null,
   "metadata": {},
   "outputs": [],
   "source": [
    "from portiapy.portia import PortiaApi\n",
    "\n",
    "portiaApi = PortiaApi({\n",
    "    'baseurl': '',\n",
    "    'authorization': '',\n",
    "    'debug': False\n",
    "})"
   ]
  },
  {
   "cell_type": "markdown",
   "metadata": {},
   "source": [
    "## 2. EdgePipeline\n",
    "Classe para interação com as estruturas de pipeline oferecidas pela API:"
   ]
  },
  {
   "cell_type": "code",
   "execution_count": null,
   "metadata": {},
   "outputs": [],
   "source": [
    "pipeline = portiaApi.pipeline()"
   ]
  },
  {
   "cell_type": "markdown",
   "metadata": {},
   "source": [
    "### 2.1. EdgePipelinePhase\n",
    "* Classe para criação, leitura e atualização de **fases** pertencentes ao pipeline;\n",
    "* As **fases** são responsáveis pelo tratamento das séries temporais, modificando-as de acordo com suas próprias definições;\n",
    "* Atualmente há apenas **fases** do tipo consulta (_query_). Estas realizam modificações diretamente na consulta realizada ao banco e não na série temporal retornada;"
   ]
  },
  {
   "cell_type": "code",
   "execution_count": null,
   "metadata": {},
   "outputs": [],
   "source": [
    "phase = pipeline.phase()"
   ]
  },
  {
   "cell_type": "code",
   "execution_count": null,
   "metadata": {},
   "outputs": [],
   "source": [
    "# Lista todas as fases\n",
    "temp = phase.list()\n",
    "print( json.dumps(temp, indent=3) )"
   ]
  },
  {
   "cell_type": "code",
   "execution_count": null,
   "metadata": {},
   "outputs": [],
   "source": [
    "# Criar/salvar uma nova fase\n",
    "temp = phase.create({\n",
    "    'name': 'test_query',\n",
    "    'type': 'query',\n",
    "    'params': [{\n",
    "        'label': 'test',\n",
    "        'target': 'value',\n",
    "        'operator': '>'\n",
    "    }]\n",
    "})\n",
    "print( json.dumps(temp, indent=3) )"
   ]
  },
  {
   "cell_type": "code",
   "execution_count": null,
   "metadata": {},
   "outputs": [],
   "source": [
    "# Exibe uma única fase\n",
    "temp = phase.display('test_query')\n",
    "print( json.dumps(temp, indent=3) )"
   ]
  },
  {
   "cell_type": "code",
   "execution_count": null,
   "metadata": {},
   "outputs": [],
   "source": [
    "# Atualiza os detalhes de uma fase\n",
    "phase.update('test_query', {\n",
    "    'name': 'test_query',\n",
    "    'type': 'query',\n",
    "    'params': [{\n",
    "        'label': 'test_updated',\n",
    "        'target': 'value',\n",
    "        'operator': '>'\n",
    "    }]    \n",
    "})\n",
    "\n",
    "# Exibe alteração\n",
    "print()\n",
    "temp = phase.display('test_query')\n",
    "print( json.dumps(temp, indent=3) )"
   ]
  },
  {
   "cell_type": "markdown",
   "metadata": {},
   "source": [
    "### 2.2. EdgePipelineAxiom\n",
    "* Classe para criação, deleção, leitura e atualização de **axiomas** pertencentes ao pipeline;\n",
    "* Os **axiomas** são conjuntos de fases;\n",
    "* Determinam as alterações que ocorrerão em uma série temporal de acordo com suas fases;\n",
    "* Possuem sistema de privacidade, podendo ser públicos ou privados;"
   ]
  },
  {
   "cell_type": "code",
   "execution_count": null,
   "metadata": {},
   "outputs": [],
   "source": [
    "axiom = pipeline.axiom()"
   ]
  },
  {
   "cell_type": "code",
   "execution_count": null,
   "metadata": {},
   "outputs": [],
   "source": [
    "# Lista todos os axiomas\n",
    "temp = axiom.list()\n",
    "print( json.dumps(temp, indent=3) )"
   ]
  },
  {
   "cell_type": "code",
   "execution_count": null,
   "metadata": {},
   "outputs": [],
   "source": [
    "# Criar/salvar um novo axioma\n",
    "temp = axiom.create({\n",
    "    'name': 'test_axiom_v1',\n",
    "    'public': False,\n",
    "    'phases': ['time_query', 'test_query']\n",
    "})\n",
    "print( json.dumps(temp, indent=3) )"
   ]
  },
  {
   "cell_type": "code",
   "execution_count": null,
   "metadata": {},
   "outputs": [],
   "source": [
    "# Exibe um único axioma\n",
    "temp = axiom.display('test_axiom_v1')\n",
    "print( json.dumps(temp, indent=3) )"
   ]
  },
  {
   "cell_type": "code",
   "execution_count": null,
   "metadata": {},
   "outputs": [],
   "source": [
    "# Atualiza os detalhes de um axioma\n",
    "axiom.update('test_axiom_v1', {\n",
    "    'public': True\n",
    "})\n",
    "\n",
    "# Exibe alteração\n",
    "print()\n",
    "temp = axiom.display('test_axiom_v1')\n",
    "print( json.dumps(temp, indent=3) )"
   ]
  },
  {
   "cell_type": "code",
   "execution_count": null,
   "metadata": {},
   "outputs": [],
   "source": [
    "# Deleta um axioma\n",
    "temp = axiom.delete('test_axiom_v1')\n",
    "print( json.dumps(temp, indent=3) )"
   ]
  },
  {
   "cell_type": "markdown",
   "metadata": {},
   "source": [
    "### 2.3. EdgePipelineSpecification\n",
    "* Classe para criação, deleção, leitura e atualização de **especificações** pertencentes ao pipeline;\n",
    "* Suas regras determinam quais axiomas serão utilizados para alterar cada série temporal de acordo com seus metadados (porta, sensor, código de dimensão, etc...);\n",
    "* Também determina quais os valores que o axioma irá utilizar para alteração da série temporal;"
   ]
  },
  {
   "cell_type": "code",
   "execution_count": null,
   "metadata": {},
   "outputs": [],
   "source": [
    "spec = pipeline.specification()"
   ]
  },
  {
   "cell_type": "code",
   "execution_count": null,
   "metadata": {},
   "outputs": [],
   "source": [
    "# Lista todas as especificações\n",
    "temp = spec.list()\n",
    "print( json.dumps(temp, indent=3) )"
   ]
  },
  {
   "cell_type": "code",
   "execution_count": null,
   "metadata": {},
   "outputs": [],
   "source": [
    "# Criar/salvar uma nova especificação\n",
    "temp = spec.create({\n",
    "    'name': 'test',\n",
    "    'public': False,\n",
    "    'rows': [{\n",
    "        'axiom_name': 'edge_axiom_v1',\n",
    "        'query_profile': {\n",
    "            'channel_code': '*',\n",
    "            'channel_id': '*',\n",
    "            'device_thing_code': '*',\n",
    "            'edge_id': '*',\n",
    "            'port': '*',\n",
    "            'sensor': '*',\n",
    "            'dimension_code': '*',\n",
    "            'unity_code': '*',\n",
    "            'thing_code': '*'\n",
    "        },\n",
    "        'axiom_params': {\n",
    "            'from': '@', 'to': '@', 'lower_bound': '#', 'upper_bound': '#', 'number_of_packages': '#'\n",
    "        }\n",
    "    }]\n",
    "})\n",
    "print( json.dumps(temp, indent=3) )"
   ]
  },
  {
   "cell_type": "code",
   "execution_count": null,
   "metadata": {},
   "outputs": [],
   "source": [
    "# Exibe uma única especificação\n",
    "temp = spec.display('test')\n",
    "print( json.dumps(temp, indent=3) )"
   ]
  },
  {
   "cell_type": "code",
   "execution_count": null,
   "metadata": {},
   "outputs": [],
   "source": [
    "# Atualiza os detalhes de uma especificação\n",
    "spec.update('test', {\n",
    "    'public': True\n",
    "})\n",
    "\n",
    "# Exibe alteração\n",
    "print()\n",
    "temp = spec.display('test')\n",
    "print( json.dumps(temp, indent=3) )"
   ]
  },
  {
   "cell_type": "code",
   "execution_count": null,
   "metadata": {},
   "outputs": [],
   "source": [
    "# Deleta uma especificação\n",
    "temp = spec.delete('test')\n",
    "print( json.dumps(temp, indent=3) )"
   ]
  },
  {
   "cell_type": "markdown",
   "metadata": {},
   "source": [
    "## 3. EdgeDevice\n",
    "Classe para interação com as consultas oferecidas pela API:"
   ]
  },
  {
   "cell_type": "code",
   "execution_count": null,
   "metadata": {},
   "outputs": [],
   "source": [
    "# Parâmetros utilizados no exemplo\n",
    "device = ''\n",
    "port = 0\n",
    "sensor = 1\n",
    "dimension = 15"
   ]
  },
  {
   "cell_type": "markdown",
   "metadata": {},
   "source": [
    "### 3.1. Describe\n",
    "* Funções de **descrição** de um dispositivo para conhecimento de suas portas, sensores e códigos de dimensão;"
   ]
  },
  {
   "cell_type": "markdown",
   "metadata": {},
   "source": [
    "#### Parâmetros Possíveis (Todos Opcionais)"
   ]
  },
  {
   "cell_type": "code",
   "execution_count": null,
   "metadata": {},
   "outputs": [],
   "source": [
    "params = {\n",
    "    'from': None,\n",
    "    'to': None,\n",
    "    'precision': 'ms',\n",
    "    'sort': True\n",
    "}"
   ]
  },
  {
   "cell_type": "markdown",
   "metadata": {},
   "source": [
    "#### Lista de Portas"
   ]
  },
  {
   "cell_type": "code",
   "execution_count": null,
   "metadata": {},
   "outputs": [],
   "source": [
    "# /describe/device/:device/ports\n",
    "portiaApi.device(device).ports(params=params)"
   ]
  },
  {
   "cell_type": "code",
   "execution_count": null,
   "metadata": {},
   "outputs": [],
   "source": [
    "# /describe/device/:device/ports/last\n",
    "portiaApi.device(device).ports(last=True, params=params)"
   ]
  },
  {
   "cell_type": "code",
   "execution_count": null,
   "metadata": {},
   "outputs": [],
   "source": [
    "# With humanization\n",
    "portiaApi.device(device).ports(last=True, params=params).humanize()"
   ]
  },
  {
   "cell_type": "code",
   "execution_count": null,
   "metadata": {},
   "outputs": [],
   "source": [
    "# With timestamp humanization\n",
    "portiaApi.device(device).ports(last=True, params=params).humanize(datetime=True)"
   ]
  },
  {
   "cell_type": "markdown",
   "metadata": {},
   "source": [
    "#### Lista de Sensores por Porta"
   ]
  },
  {
   "cell_type": "code",
   "execution_count": null,
   "metadata": {},
   "outputs": [],
   "source": [
    "# /describe/device/:device/port/:port/sensors\n",
    "portiaApi.device(device).port(port).sensors(params=params)"
   ]
  },
  {
   "cell_type": "code",
   "execution_count": null,
   "metadata": {},
   "outputs": [],
   "source": [
    "# /describe/device/:device/port/:port/sensors/last\n",
    "portiaApi.device(device).port(port).sensors(last=True, params=params)"
   ]
  },
  {
   "cell_type": "code",
   "execution_count": null,
   "metadata": {},
   "outputs": [],
   "source": [
    "# With humanization\n",
    "portiaApi.device(device).port(port).sensors(last=True, params=params).humanize()"
   ]
  },
  {
   "cell_type": "code",
   "execution_count": null,
   "metadata": {},
   "outputs": [],
   "source": [
    "# With timestamp humanization\n",
    "portiaApi.device(device).port(port).sensors(last=True, params=params).humanize(datetime=True)"
   ]
  },
  {
   "cell_type": "markdown",
   "metadata": {},
   "source": [
    "#### Lista de Códigos de Dimensão por Porta"
   ]
  },
  {
   "cell_type": "code",
   "execution_count": null,
   "metadata": {},
   "outputs": [],
   "source": [
    "# /describe/device/:device/port/:port/dimensions\n",
    "portiaApi.device(device).port(port).dimensions(params=params)"
   ]
  },
  {
   "cell_type": "code",
   "execution_count": null,
   "metadata": {},
   "outputs": [],
   "source": [
    "# /describe/device/:device/port/:port/dimensions/last\n",
    "portiaApi.device(device).port(port).dimensions(last=True, params=params)"
   ]
  },
  {
   "cell_type": "code",
   "execution_count": null,
   "metadata": {},
   "outputs": [],
   "source": [
    "# With humanization\n",
    "portiaApi.device(device).port(port).dimensions(last=True, params=params).humanize()"
   ]
  },
  {
   "cell_type": "code",
   "execution_count": null,
   "metadata": {},
   "outputs": [],
   "source": [
    "# With timestamp humanization\n",
    "portiaApi.device(device).port(port).dimensions(last=True, params=params).humanize(datetime=True)"
   ]
  },
  {
   "cell_type": "markdown",
   "metadata": {},
   "source": [
    "#### Lista de Códigos de Dimensão por Porta e Sensor"
   ]
  },
  {
   "cell_type": "code",
   "execution_count": null,
   "metadata": {},
   "outputs": [],
   "source": [
    "# /describe/device/:device/port/:port/sensor/:sensor/dimensions\n",
    "portiaApi.device(device).port(port).sensor(sensor).dimensions(params=params)"
   ]
  },
  {
   "cell_type": "code",
   "execution_count": null,
   "metadata": {},
   "outputs": [],
   "source": [
    "# /describe/device/:device/port/:port/sensor/:sensor/dimensions/last\n",
    "portiaApi.device(device).port(port).sensor(sensor).dimensions(last=True, params=params)"
   ]
  },
  {
   "cell_type": "code",
   "execution_count": null,
   "metadata": {},
   "outputs": [],
   "source": [
    "# With humanization\n",
    "portiaApi.device(device).port(port).sensor(sensor).dimensions(last=True, params=params).humanize()"
   ]
  },
  {
   "cell_type": "code",
   "execution_count": null,
   "metadata": {},
   "outputs": [],
   "source": [
    "# With timestamp humanization\n",
    "portiaApi.device(device).port(port).sensor(sensor).dimensions(last=True, params=params).humanize(datetime=True)"
   ]
  },
  {
   "cell_type": "markdown",
   "metadata": {},
   "source": [
    "### 3.2. Profile\n",
    "* Funções para obtenção do perfil de um dispositivo;"
   ]
  },
  {
   "cell_type": "markdown",
   "metadata": {},
   "source": [
    "#### Parâmetros Possíveis (Todos Opcionais)"
   ]
  },
  {
   "cell_type": "code",
   "execution_count": null,
   "metadata": {},
   "outputs": [],
   "source": [
    "from portiapy.profile import ProfileStrategies\n",
    "\n",
    "strategy = ProfileStrategies.BY_ZERO_PORT\n",
    "\n",
    "interval = 30\n",
    "\n",
    "params = {\n",
    "    'precision': 'ms',\n",
    "    'sort': True\n",
    "}"
   ]
  },
  {
   "cell_type": "markdown",
   "metadata": {},
   "source": [
    "#### Perfil do Dispositivo"
   ]
  },
  {
   "cell_type": "code",
   "execution_count": null,
   "metadata": {},
   "outputs": [],
   "source": [
    "# /profile/device/:device/:strategy/:interval\n",
    "temp = portiaApi.device(device).profile(strategy=strategy, interval=interval, params=params)\n",
    "print( json.dumps(temp, indent=3) )"
   ]
  },
  {
   "cell_type": "markdown",
   "metadata": {},
   "source": [
    "#### Perfil do Dispositivo por Porta"
   ]
  },
  {
   "cell_type": "code",
   "execution_count": null,
   "metadata": {},
   "outputs": [],
   "source": [
    "# /profile/device/:device/port/:port/:strategy/:interval\n",
    "temp = portiaApi.device(device).port(port).profile(strategy=strategy, interval=interval, params=params)\n",
    "print( json.dumps(temp, indent=3) )"
   ]
  },
  {
   "cell_type": "markdown",
   "metadata": {},
   "source": [
    "#### Perfil do Dispositivo por Porta e Sensor"
   ]
  },
  {
   "cell_type": "code",
   "execution_count": null,
   "metadata": {},
   "outputs": [],
   "source": [
    "# /profile/device/:device/port/:port/sensor/:sensor/:strategy/:interval\n",
    "temp = portiaApi.device(device).port(port).sensor(sensor).profile(strategy=strategy, interval=interval, params=params)\n",
    "print( json.dumps(temp, indent=3) )"
   ]
  },
  {
   "cell_type": "markdown",
   "metadata": {},
   "source": [
    "### 3.3. Select\n",
    "* Funções para obtenção dos últimos pacotes de um dispositivo;"
   ]
  },
  {
   "cell_type": "markdown",
   "metadata": {},
   "source": [
    "#### Parâmetros Possíveis (Todos Opcionais)"
   ]
  },
  {
   "cell_type": "code",
   "execution_count": null,
   "metadata": {},
   "outputs": [],
   "source": [
    "params = {\n",
    "    'from': None,\n",
    "    'to': None,\n",
    "    'order': None,\n",
    "    'precision': 'ms',\n",
    "    'limit': None\n",
    "}"
   ]
  },
  {
   "cell_type": "markdown",
   "metadata": {},
   "source": [
    "#### Pacotes por Porta e Sensor"
   ]
  },
  {
   "cell_type": "code",
   "execution_count": null,
   "metadata": {},
   "outputs": [],
   "source": [
    "%matplotlib inline\n",
    "\n",
    "df = portiaApi.device(device).port(port).sensor(sensor).select(params=params)\n",
    "df.plot(x='header_timestamp', y='dimension_value')"
   ]
  },
  {
   "cell_type": "code",
   "execution_count": null,
   "metadata": {},
   "outputs": [],
   "source": [
    "portiaApi.device(device).port(port).sensor(sensor).select(last=True, params=params)"
   ]
  },
  {
   "cell_type": "code",
   "execution_count": null,
   "metadata": {},
   "outputs": [],
   "source": [
    "# With humanization\n",
    "portiaApi.device(device).port(port).sensor(sensor).dimensions(last=True, params=params).humanize()"
   ]
  },
  {
   "cell_type": "code",
   "execution_count": null,
   "metadata": {},
   "outputs": [],
   "source": [
    "# With timestamp humanization\n",
    "portiaApi.device(device).port(port).sensor(sensor).dimensions(last=True, params=params).humanize(datetime=True)"
   ]
  },
  {
   "cell_type": "markdown",
   "metadata": {},
   "source": [
    "#### Pacotes por Porta e Código de Dimensão"
   ]
  },
  {
   "cell_type": "code",
   "execution_count": null,
   "metadata": {},
   "outputs": [],
   "source": [
    "%matplotlib inline\n",
    "\n",
    "df = portiaApi.device(device).port(port).dimension(dimension).select(params=params)\n",
    "df.plot(x='header_timestamp', y='dimension_value')"
   ]
  },
  {
   "cell_type": "code",
   "execution_count": null,
   "metadata": {},
   "outputs": [],
   "source": [
    "portiaApi.device(device).port(port).dimension(dimension).select(last=True, params=params)"
   ]
  },
  {
   "cell_type": "code",
   "execution_count": null,
   "metadata": {},
   "outputs": [],
   "source": [
    "# With humanization\n",
    "portiaApi.device(device).port(port).dimension(dimension).select(last=True, params=params).humanize()"
   ]
  },
  {
   "cell_type": "code",
   "execution_count": null,
   "metadata": {},
   "outputs": [],
   "source": [
    "# With timestamp humanization\n",
    "portiaApi.device(device).port(port).dimension(dimension).select(last=True, params=params).humanize(datetime=True)"
   ]
  },
  {
   "cell_type": "markdown",
   "metadata": {},
   "source": [
    "#### Pacotes por Porta, Sensor e Código de Dimensão"
   ]
  },
  {
   "cell_type": "code",
   "execution_count": null,
   "metadata": {},
   "outputs": [],
   "source": [
    "%matplotlib inline\n",
    "\n",
    "df = portiaApi.device(device).port(port).sensor(sensor).dimension(dimension).select(params=params)\n",
    "df.plot(x='header_timestamp', y='dimension_value')"
   ]
  },
  {
   "cell_type": "code",
   "execution_count": null,
   "metadata": {},
   "outputs": [],
   "source": [
    "portiaApi.device(device).port(port).sensor(sensor).dimension(dimension).select(last=True, params=params)"
   ]
  },
  {
   "cell_type": "code",
   "execution_count": null,
   "metadata": {},
   "outputs": [],
   "source": [
    "# With humanization\n",
    "portiaApi.device(device).port(port).sensor(sensor).dimension(dimension).select(last=True, params=params).humanize()"
   ]
  },
  {
   "cell_type": "code",
   "execution_count": null,
   "metadata": {},
   "outputs": [],
   "source": [
    "# With timestamp humanization\n",
    "portiaApi.device(device).port(port).sensor(sensor).dimension(dimension).select(last=True, params=params).humanize(datetime=True)"
   ]
  },
  {
   "cell_type": "markdown",
   "metadata": {},
   "source": [
    "### 3.4. Summary\n",
    "* Funções para obtenção de sumários de um dispositivo;"
   ]
  },
  {
   "cell_type": "markdown",
   "metadata": {},
   "source": [
    "#### Parâmetros Possíveis (Todos Opcionais)"
   ]
  },
  {
   "cell_type": "code",
   "execution_count": null,
   "metadata": {},
   "outputs": [],
   "source": [
    "from portiapy.summary import SummaryStrategies\n",
    "\n",
    "strategy = SummaryStrategies.PER_HOUR\n",
    "\n",
    "interval = 1\n",
    "\n",
    "params = {\n",
    "    'from': None,\n",
    "    'to': None,\n",
    "    'order': None,\n",
    "    'precision': 'ms',\n",
    "    'min': True,\n",
    "    'max': True,\n",
    "    'sum': True,\n",
    "    'avg': True,\n",
    "    'median': False,\n",
    "    'mode': False,\n",
    "    'stddev': False,\n",
    "    'spread': False\n",
    "}"
   ]
  },
  {
   "cell_type": "markdown",
   "metadata": {},
   "source": [
    "#### Sumário por Porta e Sensor"
   ]
  },
  {
   "cell_type": "code",
   "execution_count": null,
   "metadata": {},
   "outputs": [],
   "source": [
    "%matplotlib inline\n",
    "\n",
    "df = portiaApi.device(device).port(port).sensor(sensor).summary(strategy=strategy, interval=interval, params=params)\n",
    "ax = df.plot(x='header_timestamp', y='min')\n",
    "ax = df.plot(ax=ax, x='header_timestamp', y='max')"
   ]
  },
  {
   "cell_type": "markdown",
   "metadata": {},
   "source": [
    "#### Sumário por Porta, Sensor e Código de Dimensão"
   ]
  },
  {
   "cell_type": "code",
   "execution_count": null,
   "metadata": {},
   "outputs": [],
   "source": [
    "%matplotlib inline\n",
    "\n",
    "df = portiaApi.device(device).port(port).sensor(sensor).dimension(dimension).summary(strategy=strategy, interval=interval, params=params)\n",
    "ax = df.plot(x='header_timestamp', y='min')\n",
    "ax = df.plot(ax=ax, x='header_timestamp', y='max')"
   ]
  },
  {
   "cell_type": "markdown",
   "metadata": {},
   "source": [
    "## 4. Implicação do Uso de Especificações nas Consultas\n",
    "* Por padrão toda consulta utiliza a **especificação** padrão (_default_);\n",
    "* É possível que nos exemplos apresentados dois gráficos da mesma série temporal possam ter sido exibidos de maneira diferente dado a presença do código da dimensão na consulta;\n",
    "* Isto ocorre devido a ação da **especificação** que determinou por qual pipeline (**axioma** + **fases**) a série temporal será tratada e quais valores serão utilizados neste tratamento;"
   ]
  },
  {
   "cell_type": "code",
   "execution_count": null,
   "metadata": {},
   "outputs": [],
   "source": [
    "# Exemplo com a especificação default\n",
    "%matplotlib inline\n",
    "\n",
    "df = portiaApi.device(device).port(port).sensor(sensor).dimension(dimension).summary(strategy=strategy, interval=interval, params=params)\n",
    "ax = df.plot(x='header_timestamp', y='min')\n",
    "ax = df.plot(ax=ax, x='header_timestamp', y='max')"
   ]
  },
  {
   "cell_type": "code",
   "execution_count": null,
   "metadata": {},
   "outputs": [],
   "source": [
    "# Exemplo com a especificação raw\n",
    "params['specification'] = 'raw'\n",
    "%matplotlib inline\n",
    "\n",
    "df = portiaApi.device(device).port(port).sensor(sensor).dimension(dimension).summary(strategy=strategy, interval=interval, params=params)\n",
    "ax = df.plot(x='header_timestamp', y='min')\n",
    "ax = df.plot(ax=ax, x='header_timestamp', y='max')"
   ]
  }
 ],
 "metadata": {
  "kernelspec": {
   "display_name": "Python 3",
   "language": "python",
   "name": "python3"
  },
  "language_info": {
   "codemirror_mode": {
    "name": "ipython",
    "version": 3
   },
   "file_extension": ".py",
   "mimetype": "text/x-python",
   "name": "python",
   "nbconvert_exporter": "python",
   "pygments_lexer": "ipython3",
   "version": "3.6.7"
  }
 },
 "nbformat": 4,
 "nbformat_minor": 2
}
