{
 "cells": [
  {
   "cell_type": "markdown",
   "metadata": {},
   "source": [
    "# PortiaPy\n",
    "\n",
    "Um pacote para trabalhar com a API REST da Agriness Edge possuindo funções para:\n",
    "- Describe;\n",
    "- Profile;\n",
    "- Select;\n",
    "- Summary;"
   ]
  },
  {
   "cell_type": "code",
   "execution_count": null,
   "metadata": {},
   "outputs": [],
   "source": [
    "import portiapy\n",
    "import json\n",
    "\n",
    "portiapy.about()"
   ]
  },
  {
   "cell_type": "markdown",
   "metadata": {},
   "source": [
    "## Trabalhando com o PortiaPy"
   ]
  },
  {
   "cell_type": "markdown",
   "metadata": {},
   "source": [
    "### 1 - PortiaApi Class\n",
    "Classe para interação com a API, necessita de uma série de configurações para seu funcionamento passadas no construtor da classe:"
   ]
  },
  {
   "cell_type": "code",
   "execution_count": null,
   "metadata": {},
   "outputs": [],
   "source": [
    "# Exemplo\n",
    "portiapy.portiaConfigExample"
   ]
  },
  {
   "cell_type": "markdown",
   "metadata": {},
   "source": [
    "#### Instanciando um objeto do tipo PortiaApi"
   ]
  },
  {
   "cell_type": "code",
   "execution_count": null,
   "metadata": {},
   "outputs": [],
   "source": [
    "from portiapy.portia import PortiaApi\n",
    "\n",
    "portiaApi = PortiaApi({\n",
    "    'baseurl': '',\n",
    "    'authorization': '',\n",
    "    'debug': False\n",
    "})\n",
    "\n",
    "# Parâmetros utilizados no teste\n",
    "device = ''\n",
    "port = 0\n",
    "sensor = 1\n",
    "dimension = 15"
   ]
  },
  {
   "cell_type": "markdown",
   "metadata": {},
   "source": [
    "### 2 - Describe\n",
    "Funções de descrição de um dispositivo para conhecimento de suas portas, sensores e códigos de dimensão"
   ]
  },
  {
   "cell_type": "markdown",
   "metadata": {},
   "source": [
    "#### Parâmetros Possíveis (Todos Opcionais)"
   ]
  },
  {
   "cell_type": "code",
   "execution_count": null,
   "metadata": {},
   "outputs": [],
   "source": [
    "params = {\n",
    "    'from': None,\n",
    "    'to': None,\n",
    "    'precision': 'ms',\n",
    "    'sort': True\n",
    "}"
   ]
  },
  {
   "cell_type": "markdown",
   "metadata": {},
   "source": [
    "#### Lista de Portas"
   ]
  },
  {
   "cell_type": "code",
   "execution_count": null,
   "metadata": {},
   "outputs": [],
   "source": [
    "# /describe/device/:device/ports\n",
    "portiaApi.device(device).ports(params=params)"
   ]
  },
  {
   "cell_type": "code",
   "execution_count": null,
   "metadata": {},
   "outputs": [],
   "source": [
    "# /describe/device/:device/ports/last\n",
    "portiaApi.device(device).ports(last=True, params=params)"
   ]
  },
  {
   "cell_type": "markdown",
   "metadata": {},
   "source": [
    "#### Lista de Sensores por Porta"
   ]
  },
  {
   "cell_type": "code",
   "execution_count": null,
   "metadata": {},
   "outputs": [],
   "source": [
    "# /describe/device/:device/port/:port/sensors\n",
    "portiaApi.device(device).port(port).sensors(params=params)"
   ]
  },
  {
   "cell_type": "code",
   "execution_count": null,
   "metadata": {},
   "outputs": [],
   "source": [
    "# /describe/device/:device/port/:port/sensors/last\n",
    "portiaApi.device(device).port(port).sensors(last=True, params=params)"
   ]
  },
  {
   "cell_type": "markdown",
   "metadata": {},
   "source": [
    "#### Lista de Códigos de Dimensão por Porta"
   ]
  },
  {
   "cell_type": "code",
   "execution_count": null,
   "metadata": {},
   "outputs": [],
   "source": [
    "# /describe/device/:device/port/:port/dimensions\n",
    "portiaApi.device(device).port(port).dimensions(params=params)"
   ]
  },
  {
   "cell_type": "code",
   "execution_count": null,
   "metadata": {},
   "outputs": [],
   "source": [
    "# /describe/device/:device/port/:port/dimensions/last\n",
    "portiaApi.device(device).port(port).dimensions(last=True, params=params)"
   ]
  },
  {
   "cell_type": "markdown",
   "metadata": {},
   "source": [
    "#### Lista de Códigos de Dimensão por Porta e Sensor"
   ]
  },
  {
   "cell_type": "code",
   "execution_count": null,
   "metadata": {},
   "outputs": [],
   "source": [
    "# /describe/device/:device/port/:port/sensor/:sensor/dimensions\n",
    "portiaApi.device(device).port(port).sensor(sensor).dimensions(params=params)"
   ]
  },
  {
   "cell_type": "code",
   "execution_count": null,
   "metadata": {},
   "outputs": [],
   "source": [
    "# /describe/device/:device/port/:port/sensor/:sensor/dimensions/last\n",
    "portiaApi.device(device).port(port).sensor(sensor).dimensions(last=True, params=params)"
   ]
  },
  {
   "cell_type": "markdown",
   "metadata": {},
   "source": [
    "### 3 - Profile\n",
    "Funções para obtenção do perfil de um dispositivo"
   ]
  },
  {
   "cell_type": "markdown",
   "metadata": {},
   "source": [
    "#### Parâmetros Possíveis (Todos Opcionais)"
   ]
  },
  {
   "cell_type": "code",
   "execution_count": null,
   "metadata": {},
   "outputs": [],
   "source": [
    "from portiapy.profile import ProfileStrategies\n",
    "\n",
    "strategy = ProfileStrategies.BY_ZERO_PORT\n",
    "\n",
    "interval = 30\n",
    "\n",
    "params = {\n",
    "    'precision': 'ms',\n",
    "    'sort': True\n",
    "}"
   ]
  },
  {
   "cell_type": "markdown",
   "metadata": {},
   "source": [
    "#### Perfil do Dispositivo"
   ]
  },
  {
   "cell_type": "code",
   "execution_count": null,
   "metadata": {},
   "outputs": [],
   "source": [
    "# /profile/device/:device/:strategy/:interval\n",
    "portiaApi.device(device).profile(strategy=strategy, interval=interval, params=params)"
   ]
  },
  {
   "cell_type": "markdown",
   "metadata": {},
   "source": [
    "#### Perfil do Dispositivo por Porta"
   ]
  },
  {
   "cell_type": "code",
   "execution_count": null,
   "metadata": {},
   "outputs": [],
   "source": [
    "# /profile/device/:device/port/:port/:strategy/:interval\n",
    "portiaApi.device(device).port(port).profile(strategy=strategy, interval=interval, params=params)"
   ]
  },
  {
   "cell_type": "markdown",
   "metadata": {},
   "source": [
    "#### Perfil do Dispositivo por Porta e Sensor"
   ]
  },
  {
   "cell_type": "code",
   "execution_count": null,
   "metadata": {},
   "outputs": [],
   "source": [
    "# /profile/device/:device/port/:port/sensor/:sensor/:strategy/:interval\n",
    "portiaApi.device(device).port(port).sensor(sensor).profile(strategy=strategy, interval=interval, params=params)"
   ]
  },
  {
   "cell_type": "markdown",
   "metadata": {},
   "source": [
    "### 4 - Select\n",
    "Funções para obtenção dos últimos pacotes de um dispositivo"
   ]
  },
  {
   "cell_type": "markdown",
   "metadata": {},
   "source": [
    "#### Parâmetros Possíveis (Todos Opcionais)"
   ]
  },
  {
   "cell_type": "code",
   "execution_count": null,
   "metadata": {},
   "outputs": [],
   "source": [
    "params = {\n",
    "    'from': None,\n",
    "    'to': None,\n",
    "    'order': None,\n",
    "    'precision': 'ms',\n",
    "    'limit': None\n",
    "}"
   ]
  },
  {
   "cell_type": "markdown",
   "metadata": {},
   "source": [
    "#### Pacotes por Porta e Sensor"
   ]
  },
  {
   "cell_type": "code",
   "execution_count": null,
   "metadata": {},
   "outputs": [],
   "source": [
    "%matplotlib inline\n",
    "\n",
    "df = portiaApi.device(device).port(port).sensor(sensor).select(params=params)\n",
    "df.plot(x='header_timestamp', y='dimension_value')"
   ]
  },
  {
   "cell_type": "code",
   "execution_count": null,
   "metadata": {},
   "outputs": [],
   "source": [
    "portiaApi.device(device).port(port).sensor(sensor).select(last=True, params=params)"
   ]
  },
  {
   "cell_type": "markdown",
   "metadata": {},
   "source": [
    "#### Pacotes por Porta e Código de Dimensão"
   ]
  },
  {
   "cell_type": "code",
   "execution_count": null,
   "metadata": {},
   "outputs": [],
   "source": [
    "%matplotlib inline\n",
    "\n",
    "df = portiaApi.device(device).port(port).dimension(dimension).select(params=params)\n",
    "df.plot(x='header_timestamp', y='dimension_value')"
   ]
  },
  {
   "cell_type": "code",
   "execution_count": null,
   "metadata": {},
   "outputs": [],
   "source": [
    "portiaApi.device(device).port(port).dimension(dimension).select(last=True, params=params)"
   ]
  },
  {
   "cell_type": "markdown",
   "metadata": {},
   "source": [
    "#### Pacotes por Porta, Sensor e Código de Dimensão"
   ]
  },
  {
   "cell_type": "code",
   "execution_count": null,
   "metadata": {},
   "outputs": [],
   "source": [
    "%matplotlib inline\n",
    "\n",
    "df = portiaApi.device(device).port(port).sensor(sensor).dimension(dimension).select(params=params)\n",
    "df.plot(x='header_timestamp', y='dimension_value')"
   ]
  },
  {
   "cell_type": "code",
   "execution_count": null,
   "metadata": {},
   "outputs": [],
   "source": [
    "portiaApi.device(device).port(port).sensor(sensor).dimension(dimension).select(last=True, params=params)"
   ]
  },
  {
   "cell_type": "markdown",
   "metadata": {},
   "source": [
    "### 5 - Summary\n",
    "Funções para obtenção de sumários de um dispositivo"
   ]
  },
  {
   "cell_type": "markdown",
   "metadata": {},
   "source": [
    "#### Parâmetros Possíveis (Todos Opcionais)"
   ]
  },
  {
   "cell_type": "code",
   "execution_count": null,
   "metadata": {},
   "outputs": [],
   "source": [
    "from portiapy.summary import SummaryStrategies\n",
    "\n",
    "strategy = SummaryStrategies.PER_HOUR\n",
    "\n",
    "interval = 1\n",
    "\n",
    "params = {\n",
    "    'from': None,\n",
    "    'to': None,\n",
    "    'order': None,\n",
    "    'precision': 'ms',\n",
    "    'min': True,\n",
    "    'max': True,\n",
    "    'sum': True,\n",
    "    'avg': True,\n",
    "    'median': False,\n",
    "    'mode': False,\n",
    "    'stddev': False,\n",
    "    'spread': False\n",
    "}"
   ]
  },
  {
   "cell_type": "markdown",
   "metadata": {},
   "source": [
    "#### Sumário por Porta e Sensor"
   ]
  },
  {
   "cell_type": "code",
   "execution_count": null,
   "metadata": {},
   "outputs": [],
   "source": [
    "portiaApi.device(device).port(port).sensor(sensor).summary(strategy=strategy, interval=interval, params=params)"
   ]
  },
  {
   "cell_type": "markdown",
   "metadata": {},
   "source": [
    "#### Sumário por Porta, Sensor e Código de Dimensão"
   ]
  },
  {
   "cell_type": "code",
   "execution_count": null,
   "metadata": {},
   "outputs": [],
   "source": [
    "portiaApi.device(device).port(port).sensor(sensor).dimension(dimension).summary(strategy=strategy, interval=interval, params=params)"
   ]
  }
 ],
 "metadata": {
  "kernelspec": {
   "display_name": "Python 3",
   "language": "python",
   "name": "python3"
  },
  "language_info": {
   "codemirror_mode": {
    "name": "ipython",
    "version": 3
   },
   "file_extension": ".py",
   "mimetype": "text/x-python",
   "name": "python",
   "nbconvert_exporter": "python",
   "pygments_lexer": "ipython3",
   "version": "3.6.5"
  }
 },
 "nbformat": 4,
 "nbformat_minor": 2
}
